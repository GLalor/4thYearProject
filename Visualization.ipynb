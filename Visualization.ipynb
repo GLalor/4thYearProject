{
 "cells": [
  {
   "cell_type": "code",
   "execution_count": 24,
   "metadata": {},
   "outputs": [],
   "source": [
    "import findspark\n",
    "\n",
    "import pandas\n",
    "import plotly as p\n",
    "import plotly.plotly as py\n",
    "from plotly.graph_objs import *\n",
    "import plotly.figure_factory as ff\n",
    "import plotly.plotly as py\n",
    "import plotly.graph_objs as go\n",
    "from ipywidgets import interact, interactive, fixed, interact_manual\n",
    "import ipywidgets as widgets\n",
    "\n",
    "findspark.init(\"C:\\spark-2.2.1-bin-hadoop2.7\")\n",
    "from pyspark.sql import SparkSession, SQLContext\n",
    "from pyspark.sql.types import *\n",
    "sparkSession = SparkSession.builder.appName(\n",
    "    \"option-pricer-write-to-hadoop\").getOrCreate()"
   ]
  },
  {
   "cell_type": "code",
   "execution_count": 29,
   "metadata": {},
   "outputs": [],
   "source": [
    "\n",
    "\n",
    "p.tools.set_credentials_file(username='lalor188', api_key='MQxJd3Rs9X5aKOZiDEgt')\n",
    "\n",
    "resultsHiveDF = sparkSession.read.format('json').load('E:\\ProjectDB')\n",
    "\n",
    "resultsHiveDF.createOrReplaceTempView(\"optionData\")\n",
    "\n",
    "tickers = sparkSession.sql(\"SELECT Ticker FROM optionData\").collect()\n",
    "\n",
    "\n",
    "expDate = sparkSession.sql(\"SELECT ExpirationDate FROM optionData WHERE Ticker Like 'MMM'\").collect()\n",
    "\n",
    "riskFreeRates = sparkSession.sql(\"SELECT riskFreeRates FROM optionData WHERE Ticker Like 'MMM'\").collect()\n",
    "\n",
    "strikePrices = sparkSession.sql(\"SELECT Prices['StrikePrice'] FROM optionData WHERE Ticker Like 'ZTS'\").collect()\n",
    "\n",
    "numOfDays = sparkSession.sql(\"SELECT NumberOfDays FROM optionData WHERE Ticker Like 'ZTS'\").collect()\n",
    "\n"
   ]
  },
  {
   "cell_type": "code",
   "execution_count": 114,
   "metadata": {},
   "outputs": [],
   "source": [
    "# Cell to declare all funcions\n",
    "\n",
    "# Function to get prices based on a specific ticker symbol\n",
    "def getOptionPricesByTicker(symbol):\n",
    "    return sparkSession.sql(\"SELECT Prices FROM optionData WHERE Ticker Like '\" + symbol + \"'\").collect()\n",
    "\n",
    "# Function to turn int to array of ints for number of days before expDate\n",
    "# eg. number of says is 5 returns [1,2,3,4,5]\n",
    "def getNumberDaysArray(x):\n",
    "    numDaysArr = []\n",
    "    for i in range(1, x[0]['NumberOfDays'] +1):\n",
    "        numDaysArr.append(i)\n",
    "    return numDaysArr\n",
    "\n",
    "def getPricesByStrike(optionPrices, strike):\n",
    "    allPrices = []\n",
    "    for i in optionPrices[0][0]:\n",
    "        if i != None and i['StrikePrice'] == strike:\n",
    "            allPrices.append(i[0])\n",
    "    return allPrices\n",
    "\n",
    "def getPricesByRiskFreeRate(optionPrices, RiskFreeRate):\n",
    "    allPrices = []\n",
    "    for i in optionPrices[0][0]:\n",
    "        if i != None and i['RiskFreeRate'] == RiskFreeRate:\n",
    "            allPrices.append(i[0])\n",
    "    return allPrices\n",
    "\n",
    "\n",
    "def getPricesByStrikeAndRate(optionPrices, strike, RiskFreeRate):\n",
    "    allPrices = []\n",
    "    for i in optionPrices[0][0]:\n",
    "        if i != None and i['StrikePrice'] == strike and i['RiskFreeRate'] == RiskFreeRate:\n",
    "            allPrices.append(i[0])\n",
    "    return allPrices\n",
    "\n",
    "def getCalls(optionPrices):\n",
    "    callPrices = []\n",
    "    for i in optionPrices[0][0]:\n",
    "        if i['Call'] != None:\n",
    "            callPrices.append(i['Call'])\n",
    "    return callPrices\n",
    "\n",
    "def getPuts(optionPrices):\n",
    "    putPrices = []\n",
    "    for i in optionPrices[0][0]:\n",
    "        if i['Put'] != None:\n",
    "            putPrices.append(i['Put'])\n",
    "    return putPrices\n",
    "\n",
    "def priceToArray(opPrices):\n",
    "    prices = {}\n",
    "    count = 1\n",
    "    for i in opPrices:\n",
    "        priceArr = []\n",
    "        for x in i:\n",
    "            if x != None:\n",
    "                priceArr.append(x)\n",
    "        prices['opt'+str(count)] = (priceArr.copy())\n",
    "        count = count + 1\n",
    "    return prices"
   ]
  },
  {
   "cell_type": "code",
   "execution_count": null,
   "metadata": {},
   "outputs": [],
   "source": []
  },
  {
   "cell_type": "code",
   "execution_count": 109,
   "metadata": {},
   "outputs": [
    {
     "name": "stdout",
     "output_type": "stream",
     "text": [
      "[Row(2018-03-11=0.0, 2018-03-12=0.0, 2018-03-13=0.0, 2018-03-14=0.0, 2018-03-15=0.0, 2018-03-16=0.0, 2018-03-17=None, 2018-03-18=None, 2018-03-19=None, 2018-03-20=None, 2018-03-21=None, 2018-03-22=None, 2018-03-23=None, 2018-03-24=None, 2018-03-25=None, 2018-03-26=None, 2018-03-27=None, 2018-03-28=None, 2018-03-29=None, 2018-03-30=None, 2018-03-31=None, 2018-04-01=None, 2018-04-02=None, 2018-04-03=None, 2018-04-04=None, 2018-04-05=None, 2018-04-06=None, 2018-04-07=None, 2018-04-08=None, 2018-04-09=None, 2018-04-10=None, 2018-04-11=None, 2018-04-12=None, 2018-04-13=None, 2018-04-14=None, 2018-04-15=None, 2018-04-16=None, 2018-04-17=None, 2018-04-18=None, 2018-04-19=None, 2018-04-20=None, 2018-04-21=None, 2018-04-22=None, 2018-04-23=None, 2018-04-24=None, 2018-04-25=None, 2018-04-26=None, 2018-04-27=None, 2018-04-28=None, 2018-04-29=None, 2018-04-30=None, 2018-05-01=None, 2018-05-02=None, 2018-05-03=None, 2018-05-04=None, 2018-05-05=None, 2018-05-06=None, 2018-05-07=None, 2018-05-08=None, 2018-05-09=None, 2018-05-10=None, 2018-05-11=None, 2018-05-12=None, 2018-05-13=None, 2018-05-14=None, 2018-05-15=None, 2018-05-16=None, 2018-05-17=None, 2018-05-18=None), Row(2018-03-11=0.0, 2018-03-12=0.0, 2018-03-13=0.0, 2018-03-14=0.0, 2018-03-15=0.0, 2018-03-16=0.0, 2018-03-17=None, 2018-03-18=None, 2018-03-19=None, 2018-03-20=None, 2018-03-21=None, 2018-03-22=None, 2018-03-23=None, 2018-03-24=None, 2018-03-25=None, 2018-03-26=None, 2018-03-27=None, 2018-03-28=None, 2018-03-29=None, 2018-03-30=None, 2018-03-31=None, 2018-04-01=None, 2018-04-02=None, 2018-04-03=None, 2018-04-04=None, 2018-04-05=None, 2018-04-06=None, 2018-04-07=None, 2018-04-08=None, 2018-04-09=None, 2018-04-10=None, 2018-04-11=None, 2018-04-12=None, 2018-04-13=None, 2018-04-14=None, 2018-04-15=None, 2018-04-16=None, 2018-04-17=None, 2018-04-18=None, 2018-04-19=None, 2018-04-20=None, 2018-04-21=None, 2018-04-22=None, 2018-04-23=None, 2018-04-24=None, 2018-04-25=None, 2018-04-26=None, 2018-04-27=None, 2018-04-28=None, 2018-04-29=None, 2018-04-30=None, 2018-05-01=None, 2018-05-02=None, 2018-05-03=None, 2018-05-04=None, 2018-05-05=None, 2018-05-06=None, 2018-05-07=None, 2018-05-08=None, 2018-05-09=None, 2018-05-10=None, 2018-05-11=None, 2018-05-12=None, 2018-05-13=None, 2018-05-14=None, 2018-05-15=None, 2018-05-16=None, 2018-05-17=None, 2018-05-18=None)]\n"
     ]
    }
   ],
   "source": [
    "prices = getOptionPricesByTicker('ZTS')\n",
    "\n",
    "callPrices = []\n",
    "putPrices = []\n",
    "\n",
    "callPricesStrike = getCallPricesByStrike(prices, 85.0)\n",
    "\n",
    "print(callPricesStrike)\n",
    "\n",
    "callPricesRate = getCallPricesByRiskFreeRate(prices, 1.67)\n",
    "\n",
    "callPricesSR = getCallPricesByStrikeAndRate(prices, 67.5, 1.67)\n",
    "\n",
    "callPrices = getCalls(prices)\n",
    "\n",
    "putPrices = getPuts(prices)\n",
    "        \n",
    "numberOfDays = getNumberDaysArray(numOfDays)\n",
    "    "
   ]
  },
  {
   "cell_type": "code",
   "execution_count": 110,
   "metadata": {},
   "outputs": [],
   "source": []
  },
  {
   "cell_type": "code",
   "execution_count": 112,
   "metadata": {},
   "outputs": [
    {
     "data": {
      "text/html": [
       "<iframe id=\"igraph\" scrolling=\"no\" style=\"border:none;\" seamless=\"seamless\" src=\"https://plot.ly/~lalor188/2.embed\" height=\"525px\" width=\"100%\"></iframe>"
      ],
      "text/plain": [
       "<plotly.tools.PlotlyDisplay object>"
      ]
     },
     "execution_count": 112,
     "metadata": {},
     "output_type": "execute_result"
    }
   ],
   "source": [
    "data = []\n",
    "\n",
    "opPriceDic = priceToArray(putPrices)\n",
    "\n",
    "for key, values in opPriceDic.items():\n",
    "    trace = go.Scatter(\n",
    "        x = numberOfDays,\n",
    "        y = values,\n",
    "        name = 'option',\n",
    "        line = dict(\n",
    "            width = 4)\n",
    "    )\n",
    "    data.append(trace)\n",
    "# Edit the layout\n",
    "layout = dict(title = 'Average High and Low Temperatures in New York',\n",
    "              xaxis = dict(title = 'Month'),\n",
    "              yaxis = dict(title = 'Temperature (degrees F)'),\n",
    "              )\n",
    "\n",
    "fig = dict(data=data, layout=layout)\n",
    "py.iplot(fig, filename='styled-line')\n"
   ]
  },
  {
   "cell_type": "code",
   "execution_count": 87,
   "metadata": {},
   "outputs": [
    {
     "data": {
      "text/html": [
       "<iframe id=\"igraph\" scrolling=\"no\" style=\"border:none;\" seamless=\"seamless\" src=\"https://plot.ly/~lalor188/7.embed\" height=\"525px\" width=\"100%\"></iframe>"
      ],
      "text/plain": [
       "<plotly.tools.PlotlyDisplay object>"
      ]
     },
     "execution_count": 87,
     "metadata": {},
     "output_type": "execute_result"
    }
   ],
   "source": [
    "import plotly.plotly as py\n",
    "from plotly.graph_objs import *\n",
    "\n",
    "import numpy as np\n",
    "\n",
    "s = np.linspace(0, 2 * np.pi, 240)\n",
    "t = np.linspace(0, np.pi, 240)\n",
    "tGrid, sGrid = np.meshgrid(s, t)\n",
    "\n",
    "r = 2 + np.sin(7 * sGrid + 5 * tGrid)  # r = 2 + sin(7s+5t)\n",
    "x = r * np.cos(sGrid) * np.sin(tGrid)  # x = r*cos(s)*sin(t)\n",
    "y = r * np.sin(sGrid) * np.sin(tGrid)  # y = r*sin(s)*sin(t)\n",
    "z = r * np.cos(tGrid)                  # z = r*cos(t)\n",
    "\n",
    "surface = Surface(x=x, y=y, z=z)\n",
    "data = Data([surface])\n",
    "\n",
    "layout = Layout(\n",
    "    title='Parametric Plot',\n",
    "    scene=Scene(\n",
    "        xaxis=XAxis(\n",
    "            gridcolor='rgb(255, 255, 255)',\n",
    "            zerolinecolor='rgb(255, 255, 255)',\n",
    "            showbackground=True,\n",
    "            backgroundcolor='rgb(230, 230,230)'\n",
    "        ),\n",
    "        yaxis=YAxis(\n",
    "            gridcolor='rgb(255, 255, 255)',\n",
    "            zerolinecolor='rgb(255, 255, 255)',\n",
    "            showbackground=True,\n",
    "            backgroundcolor='rgb(230, 230,230)'\n",
    "        ),\n",
    "        zaxis=ZAxis(\n",
    "            gridcolor='rgb(255, 255, 255)',\n",
    "            zerolinecolor='rgb(255, 255, 255)',\n",
    "            showbackground=True,\n",
    "            backgroundcolor='rgb(230, 230,230)'\n",
    "        )\n",
    "    )\n",
    ")\n",
    "\n",
    "fig = Figure(data=data, layout=layout)\n",
    "py.iplot(fig, filename='parametric_plot')"
   ]
  },
  {
   "cell_type": "code",
   "execution_count": null,
   "metadata": {},
   "outputs": [],
   "source": []
  }
 ],
 "metadata": {
  "kernelspec": {
   "display_name": "Python 3",
   "language": "python",
   "name": "python3"
  },
  "language_info": {
   "codemirror_mode": {
    "name": "ipython",
    "version": 3
   },
   "file_extension": ".py",
   "mimetype": "text/x-python",
   "name": "python",
   "nbconvert_exporter": "python",
   "pygments_lexer": "ipython3",
   "version": "3.6.2"
  }
 },
 "nbformat": 4,
 "nbformat_minor": 2
}

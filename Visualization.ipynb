{
 "cells": [
  {
   "cell_type": "code",
   "execution_count": 3,
   "metadata": {},
   "outputs": [
    {
     "data": {
      "application/javascript": [
       "window.genUID = function() {\n",
       "    return 'xxxxxxxx-xxxx-4xxx-yxxx-xxxxxxxxxxxx'.replace(/[xy]/g, function(c) {\n",
       "        var r = Math.random()*16|0, v = c == 'x' ? r : (r&0x3|0x8);\n",
       "        return v.toString(16);\n",
       "    });\n",
       "};\n",
       "\n",
       "\n",
       "define('graphWidget', [\"@jupyter-widgets/base\"], function (widget) {\n",
       "\n",
       "    var GraphView = widget.DOMWidgetView.extend({\n",
       "        render: function(){\n",
       "            var that = this;\n",
       "\n",
       "            var graphId = window.genUID();\n",
       "            var loadingId = 'loading-'+graphId;\n",
       "\n",
       "\n",
       "            var _graph_url = that.model.get('_graph_url');\n",
       "\n",
       "            // variable plotlyDomain in the case of enterprise\n",
       "            var url_parts = _graph_url.split('/');\n",
       "            var plotlyDomain = url_parts[0] + '//' + url_parts[2];\n",
       "\n",
       "            if(!('plotlyDomains' in window)){\n",
       "                window.plotlyDomains = {};\n",
       "            }\n",
       "            window.plotlyDomains[graphId] = plotlyDomain;\n",
       "\n",
       "            // Place IFrame in output cell div `$el`\n",
       "            that.$el.css('width', '100%');\n",
       "            that.$graph = $(['<iframe id=\"'+graphId+'\"',\n",
       "                             'src=\"'+_graph_url+'.embed\"',\n",
       "                             'seamless',\n",
       "                             'style=\"border: none;\"',\n",
       "                             'width=\"100%\"',\n",
       "                             'height=\"600\">',\n",
       "                             '</iframe>'].join(' '));\n",
       "            that.$graph.appendTo(that.$el);\n",
       "\n",
       "            that.$loading = $('<div id=\"'+loadingId+'\">Initializing...</div>')\n",
       "                            .appendTo(that.$el);\n",
       "\n",
       "            // for some reason the 'width' is being changed in IPython 3.0.0\n",
       "            // for the containing `div` element. There's a flicker here, but\n",
       "            // I was unable to fix it otherwise.\n",
       "            setTimeout(function ()  {\n",
       "                if (IPYTHON_VERSION === '3') {\n",
       "                    $('#' + graphId)[0].parentElement.style.width = '100%';\n",
       "                }\n",
       "            }, 500);\n",
       "\n",
       "            // initialize communication with the iframe\n",
       "            if(!('pingers' in window)){\n",
       "                window.pingers = {};\n",
       "            }\n",
       "\n",
       "            window.pingers[graphId] = setInterval(function() {\n",
       "                that.graphContentWindow = $('#'+graphId)[0].contentWindow;\n",
       "                that.graphContentWindow.postMessage({task: 'ping'}, plotlyDomain);\n",
       "            }, 200);\n",
       "\n",
       "            // Assign a message listener to the 'message' events\n",
       "            // from iframe's postMessage protocol.\n",
       "            // Filter the messages by iframe src so that the right message\n",
       "            // gets passed to the right widget\n",
       "            if(!('messageListeners' in window)){\n",
       "                 window.messageListeners = {};\n",
       "            }\n",
       "\n",
       "            window.messageListeners[graphId] = function(e) {\n",
       "                if(_graph_url.indexOf(e.origin)>-1) {\n",
       "                    var frame = document.getElementById(graphId);\n",
       "\n",
       "                    if(frame === null){\n",
       "                        // frame doesn't exist in the dom anymore, clean up it's old event listener\n",
       "                        window.removeEventListener('message', window.messageListeners[graphId]);\n",
       "                        clearInterval(window.pingers[graphId]);\n",
       "                    } else if(frame.contentWindow === e.source) {\n",
       "                        // TODO: Stop event propagation, so each frame doesn't listen and filter\n",
       "                        var frameContentWindow = $('#'+graphId)[0].contentWindow;\n",
       "                        var message = e.data;\n",
       "\n",
       "                        if('pong' in message && message.pong) {\n",
       "                            $('#loading-'+graphId).hide();\n",
       "                            clearInterval(window.pingers[graphId]);\n",
       "                            that.send({event: 'pong', graphId: graphId});\n",
       "                        } else if (message.type==='hover' ||\n",
       "                                   message.type==='zoom'  ||\n",
       "                                   message.type==='click' ||\n",
       "                                   message.type==='unhover') {\n",
       "\n",
       "                            // click and hover events contain all of the data in the traces,\n",
       "                            // which can be a very large object and may take a ton of time\n",
       "                            // to pass to the python backend. Strip out the data, and require\n",
       "                            // the user to call get_figure if they need trace information\n",
       "                            if(message.type !== 'zoom') {\n",
       "                                for(var i in message.points) {\n",
       "                                    delete message.points[i].data;\n",
       "                                    delete message.points[i].fullData;\n",
       "                                }\n",
       "                            }\n",
       "                            that.send({event: message.type, message: message, graphId: graphId});\n",
       "                        } else if (message.task === 'getAttributes') {\n",
       "                            that.send({event: 'getAttributes', response: message.response});\n",
       "                        }\n",
       "                    }\n",
       "                }\n",
       "            };\n",
       "\n",
       "            window.removeEventListener('message', window.messageListeners[graphId]);\n",
       "            window.addEventListener('message', window.messageListeners[graphId]);\n",
       "\n",
       "        },\n",
       "\n",
       "        update: function() {\n",
       "            // Listen for messages from the graph widget in python\n",
       "            var jmessage = this.model.get('_message');\n",
       "            var message = JSON.parse(jmessage);\n",
       "\n",
       "            // check for duplicate messages\n",
       "            if(!('messageIds' in window)){\n",
       "                window.messageIds = {};\n",
       "            }\n",
       "\n",
       "            if(!(message.uid in window.messageIds)){\n",
       "                // message hasn't been received yet, do stuff\n",
       "                window.messageIds[message.uid] = true;\n",
       "\n",
       "                if (message.fadeTo) {\n",
       "                    this.fadeTo(message);\n",
       "                } else {\n",
       "                    var plot = $('#' + message.graphId)[0].contentWindow;\n",
       "                    plot.postMessage(message, window.plotlyDomains[message.graphId]);\n",
       "                }\n",
       "            }\n",
       "\n",
       "            return GraphView.__super__.update.apply(this);\n",
       "        },\n",
       "\n",
       "        /**\n",
       "         * Wrapper for jquery's `fadeTo` function.\n",
       "         *\n",
       "         * @param message Contains the id we need to find the element.\n",
       "         */\n",
       "        fadeTo: function (message) {\n",
       "            var plot = $('#' + message.graphId);\n",
       "            plot.fadeTo(message.duration, message.opacity);\n",
       "        }\n",
       "    });\n",
       "\n",
       "    // Register the GraphView with the widget manager.\n",
       "    return {\n",
       "        GraphView: GraphView\n",
       "    }\n",
       "\n",
       "});\n",
       "\n",
       "//@ sourceURL=graphWidget.js\n"
      ],
      "text/plain": [
       "<IPython.core.display.Javascript object>"
      ]
     },
     "metadata": {},
     "output_type": "display_data"
    }
   ],
   "source": [
    "import findspark\n",
    "\n",
    "import pandas\n",
    "import plotly as p\n",
    "import plotly.plotly as py\n",
    "from plotly.graph_objs import *\n",
    "import plotly.figure_factory as ff\n",
    "import plotly.plotly as py\n",
    "import plotly.graph_objs as go\n",
    "from ipywidgets import interact, interactive, fixed, interact_manual\n",
    "import ipywidgets as widgets\n",
    "from plotly.widgets import GraphWidget\n",
    "\n",
    "import matplotlib.pyplot as plt  # mathplotlib\n",
    "\n",
    "findspark.init(\"C:\\spark-2.2.1-bin-hadoop2.7\")\n",
    "from pyspark.sql import SparkSession, SQLContext\n",
    "from pyspark.sql.types import *\n",
    "sparkSession = SparkSession.builder.appName(\n",
    "    \"option-pricer-write-to-hadoop\").getOrCreate()\n",
    "\n",
    "resultsHiveDF = sparkSession.read.format('json').load('E:\\ProjectDB')\n",
    "\n",
    "resultsHiveDF.createOrReplaceTempView(\"optionData\")"
   ]
  },
  {
   "cell_type": "code",
   "execution_count": 4,
   "metadata": {},
   "outputs": [],
   "source": [
    "\n",
    "\n",
    "p.tools.set_credentials_file(username='lalor188', api_key='MQxJd3Rs9X5aKOZiDEgt') # Plotly # Not gonna be using to remove\n",
    "\n",
    "tickers = sparkSession.sql(\"SELECT Ticker FROM optionData\").collect()\n",
    "tickerSymbols = []\n",
    "for i in tickers: # remove Row(Ticker=) from ticker\n",
    "   tickerSymbols.append(i['Ticker'])\n",
    "\n",
    "expDate = sparkSession.sql(\"SELECT ExpirationDate FROM optionData WHERE Ticker Like 'MMM'\").collect()\n",
    "\n",
    "riskFreeRates = sparkSession.sql(\"SELECT riskFreeRates FROM optionData WHERE Ticker Like 'MMM'\").collect()\n",
    "\n",
    "strikePrices = sparkSession.sql(\"SELECT Prices['StrikePrice'] FROM optionData WHERE Ticker Like 'ZTS'\").collect()\n",
    "\n",
    "numOfDays = sparkSession.sql(\"SELECT NumberOfDays FROM optionData WHERE Ticker Like 'ABBV'\").collect()\n",
    "\n"
   ]
  },
  {
   "cell_type": "code",
   "execution_count": 118,
   "metadata": {},
   "outputs": [],
   "source": [
    "# Cell to declare all funcions\n",
    "\n",
    "# Function to get prices based on a specific ticker symbol\n",
    "def getOptionPricesByTicker(symbol):\n",
    "    return sparkSession.sql(\"SELECT Prices FROM optionData WHERE Ticker Like '\" + symbol + \"'\").collect()\n",
    "\n",
    "# Function to turn int to array of ints for number of days before expDate\n",
    "# eg. number of says is 5 returns [1,2,3,4,5]\n",
    "def getNumberDaysArray(x):\n",
    "    numDaysArr = []\n",
    "    for i in range(1, x[0]['NumberOfDays'] + 2):\n",
    "        numDaysArr.append(i)\n",
    "    return numDaysArr\n",
    "\n",
    "def getPricesByStrike(optionPrices, strike):\n",
    "    allPrices = []\n",
    "    for i in optionPrices:\n",
    "        if i!= None and i['StrikePrice'] == strike:\n",
    "            allPrices.append(i['Put'])\n",
    "    for i in allPrices:\n",
    "        if i is None:\n",
    "            allPrices.remove(i)\n",
    "    for i in allPrices: # for some reason have to run twice as it skips last None in above \n",
    "        if i is None:\n",
    "            allPrices.remove(i)\n",
    "    return allPrices\n",
    "\n",
    "\n",
    "\n",
    "def getPricesByStrikeAndRate(optionPrices, strike, RiskFreeRate):\n",
    "    allPrices = []\n",
    "    for i in optionPrices[0][0]:\n",
    "        if i != None and i['StrikePrice'] == strike and i['RiskFreeRate'] == RiskFreeRate:\n",
    "            allPrices.append(i[0])\n",
    "    return allPrices\n",
    "\n",
    "def getCalls(optionPrices):\n",
    "    callPrices = []\n",
    "    for i in optionPrices[0][0]:\n",
    "        if i['Call'] != None:\n",
    "            callPrices.append(i['Call'])\n",
    "    return callPrices\n",
    "\n",
    "def getPuts(optionPrices):\n",
    "    putPrices = []\n",
    "    for i in optionPrices[0][0]:\n",
    "        if i['Put'] != None:\n",
    "            putPrices.append(i['Put'])\n",
    "    return putPrices\n",
    "\n",
    "def getCalls2(optionPrices):\n",
    "    callPrices = []\n",
    "    for i in optionPrices[0][0]:\n",
    "        if i['Call'] != None:\n",
    "            callPrices.append(i)\n",
    "    return callPrices\n",
    "\n",
    "def getPuts2(optionPrices):\n",
    "    putPrices = []\n",
    "    for i in optionPrices[0][0]:\n",
    "        if i['Put'] != None:\n",
    "            putPrices.append(i)\n",
    "    return putPrices\n",
    "\n",
    "def priceToArray(opPrices):\n",
    "    prices = {}\n",
    "    count = 1\n",
    "    for i in opPrices:\n",
    "        priceArr = []\n",
    "        for x in i:\n",
    "            if x is not None:\n",
    "                priceArr.append(x)\n",
    "        prices['opt'+str(count)] = (priceArr.copy())\n",
    "        count = count + 1\n",
    "    return prices\n",
    "\n",
    "\n",
    "def riskRateToArray(rates):\n",
    "    riskRatesArray = []\n",
    "    for i in rates[0]['riskFreeRates']:\n",
    "        riskRatesArray.append(i)\n",
    "    return riskRatesArray\n",
    "\n",
    "def getSinglePut(optionPrices):\n",
    "    putPrices = []\n",
    "    for i in optionPrices[0]:\n",
    "        if i != None:\n",
    "            putPrices.append(i)\n",
    "    return putPrices\n",
    "\n",
    "def getSingleCall(optionPrices):\n",
    "    putPrices = []\n",
    "    for i in optionPrices[0]:\n",
    "        if i != None:\n",
    "            putPrices.append(i)\n",
    "    return putPrices\n",
    "\n",
    "def getStrikePriceUnique(prices):\n",
    "    strikePricesArray = []\n",
    "    for i in prices[0]['Prices.StrikePrice']:\n",
    "        if i != None and i not in strikePricesArray:\n",
    "            strikePricesArray.append(i)\n",
    "    return strikePricesArray \n",
    "\n",
    "def getRiskRateForGraph(ticker): #Probably have to change if more than 2 lines as graph code might crash TEST THIS\n",
    "    ratesArr = []\n",
    "    count = 1\n",
    "    riskFreeRates = sparkSession.sql(\"SELECT riskFreeRates FROM optionData WHERE Ticker Like '\" +\n",
    "                                     ticker + \"'\").collect()\n",
    "    for rate in riskFreeRates[0]['riskFreeRates']:\n",
    "        ratesArr.append(rate)\n",
    "    return ratesArr\n"
   ]
  },
  {
   "cell_type": "code",
   "execution_count": null,
   "metadata": {},
   "outputs": [],
   "source": []
  },
  {
   "cell_type": "code",
   "execution_count": 119,
   "metadata": {},
   "outputs": [],
   "source": [
    "# def getPricesByRiskFreeRate(optionPrices, RiskFreeRate):\n",
    "#     allPrices = []\n",
    "#     for i in optionPrices[0][0]:\n",
    "#         if i != None and i['RiskFreeRate'] == RiskFreeRate:\n",
    "#             allPrices.append(i[0])\n",
    "#     return allPrices\n",
    "\n",
    "# def priceToDic(opPrices):\n",
    "#     prices = {}\n",
    "#     count = 1\n",
    "#     for i in opPrices:\n",
    "#         priceArr = []\n",
    "#         for x in i:\n",
    "#             if x != \"None\":\n",
    "#                 priceArr.append(x)\n",
    "#         prices['opt'+str(count)] = (priceArr.copy())\n",
    "#         count = count + 1\n",
    "#     return prices\n"
   ]
  },
  {
   "cell_type": "code",
   "execution_count": 22,
   "metadata": {},
   "outputs": [
    {
     "ename": "ValueError",
     "evalue": "StrikePrice",
     "output_type": "error",
     "traceback": [
      "\u001b[1;31m---------------------------------------------------------------------------\u001b[0m",
      "\u001b[1;31mValueError\u001b[0m                                Traceback (most recent call last)",
      "\u001b[1;32mC:\\spark-2.2.1-bin-hadoop2.7\\python\\pyspark\\sql\\types.py\u001b[0m in \u001b[0;36m__getitem__\u001b[1;34m(self, item)\u001b[0m\n\u001b[0;32m   1490\u001b[0m             \u001b[1;31m# but this will not be used in normal cases\u001b[0m\u001b[1;33m\u001b[0m\u001b[1;33m\u001b[0m\u001b[0m\n\u001b[1;32m-> 1491\u001b[1;33m             \u001b[0midx\u001b[0m \u001b[1;33m=\u001b[0m \u001b[0mself\u001b[0m\u001b[1;33m.\u001b[0m\u001b[0m__fields__\u001b[0m\u001b[1;33m.\u001b[0m\u001b[0mindex\u001b[0m\u001b[1;33m(\u001b[0m\u001b[0mitem\u001b[0m\u001b[1;33m)\u001b[0m\u001b[1;33m\u001b[0m\u001b[0m\n\u001b[0m\u001b[0;32m   1492\u001b[0m             \u001b[1;32mreturn\u001b[0m \u001b[0msuper\u001b[0m\u001b[1;33m(\u001b[0m\u001b[0mRow\u001b[0m\u001b[1;33m,\u001b[0m \u001b[0mself\u001b[0m\u001b[1;33m)\u001b[0m\u001b[1;33m.\u001b[0m\u001b[0m__getitem__\u001b[0m\u001b[1;33m(\u001b[0m\u001b[0midx\u001b[0m\u001b[1;33m)\u001b[0m\u001b[1;33m\u001b[0m\u001b[0m\n",
      "\u001b[1;31mValueError\u001b[0m: 'StrikePrice' is not in list",
      "\nDuring handling of the above exception, another exception occurred:\n",
      "\u001b[1;31mValueError\u001b[0m                                Traceback (most recent call last)",
      "\u001b[1;32m<ipython-input-22-b4c54d82919e>\u001b[0m in \u001b[0;36m<module>\u001b[1;34m()\u001b[0m\n\u001b[0;32m      4\u001b[0m \u001b[0mputPrices\u001b[0m \u001b[1;33m=\u001b[0m \u001b[1;33m[\u001b[0m\u001b[1;33m]\u001b[0m\u001b[1;33m\u001b[0m\u001b[0m\n\u001b[0;32m      5\u001b[0m \u001b[1;33m\u001b[0m\u001b[0m\n\u001b[1;32m----> 6\u001b[1;33m \u001b[0mcallPricesStrike\u001b[0m \u001b[1;33m=\u001b[0m \u001b[0mgetPricesByStrike\u001b[0m\u001b[1;33m(\u001b[0m\u001b[0mprices\u001b[0m\u001b[1;33m,\u001b[0m \u001b[1;36m65.0\u001b[0m\u001b[1;33m)\u001b[0m\u001b[1;33m\u001b[0m\u001b[0m\n\u001b[0m\u001b[0;32m      7\u001b[0m \u001b[1;33m\u001b[0m\u001b[0m\n\u001b[0;32m      8\u001b[0m \u001b[1;33m\u001b[0m\u001b[0m\n",
      "\u001b[1;32m<ipython-input-20-a09f10aa3634>\u001b[0m in \u001b[0;36mgetPricesByStrike\u001b[1;34m(optionPrices, strike)\u001b[0m\n\u001b[0;32m     16\u001b[0m     \u001b[0mallPrices\u001b[0m \u001b[1;33m=\u001b[0m \u001b[1;33m[\u001b[0m\u001b[1;33m]\u001b[0m\u001b[1;33m\u001b[0m\u001b[0m\n\u001b[0;32m     17\u001b[0m     \u001b[1;32mfor\u001b[0m \u001b[0mi\u001b[0m \u001b[1;32min\u001b[0m \u001b[0moptionPrices\u001b[0m\u001b[1;33m:\u001b[0m\u001b[1;33m\u001b[0m\u001b[0m\n\u001b[1;32m---> 18\u001b[1;33m         \u001b[1;32mif\u001b[0m \u001b[0mi\u001b[0m\u001b[1;33m!=\u001b[0m \u001b[1;32mNone\u001b[0m \u001b[1;32mand\u001b[0m \u001b[0mi\u001b[0m\u001b[1;33m[\u001b[0m\u001b[1;34m'StrikePrice'\u001b[0m\u001b[1;33m]\u001b[0m \u001b[1;33m==\u001b[0m \u001b[0mstrike\u001b[0m\u001b[1;33m:\u001b[0m\u001b[1;33m\u001b[0m\u001b[0m\n\u001b[0m\u001b[0;32m     19\u001b[0m             \u001b[0mallPrices\u001b[0m\u001b[1;33m.\u001b[0m\u001b[0mappend\u001b[0m\u001b[1;33m(\u001b[0m\u001b[0mi\u001b[0m\u001b[1;33m[\u001b[0m\u001b[1;34m'Put'\u001b[0m\u001b[1;33m]\u001b[0m\u001b[1;33m)\u001b[0m\u001b[1;33m\u001b[0m\u001b[0m\n\u001b[0;32m     20\u001b[0m     \u001b[1;32mfor\u001b[0m \u001b[0mi\u001b[0m \u001b[1;32min\u001b[0m \u001b[0mallPrices\u001b[0m\u001b[1;33m:\u001b[0m\u001b[1;33m\u001b[0m\u001b[0m\n",
      "\u001b[1;32mC:\\spark-2.2.1-bin-hadoop2.7\\python\\pyspark\\sql\\types.py\u001b[0m in \u001b[0;36m__getitem__\u001b[1;34m(self, item)\u001b[0m\n\u001b[0;32m   1494\u001b[0m             \u001b[1;32mraise\u001b[0m \u001b[0mKeyError\u001b[0m\u001b[1;33m(\u001b[0m\u001b[0mitem\u001b[0m\u001b[1;33m)\u001b[0m\u001b[1;33m\u001b[0m\u001b[0m\n\u001b[0;32m   1495\u001b[0m         \u001b[1;32mexcept\u001b[0m \u001b[0mValueError\u001b[0m\u001b[1;33m:\u001b[0m\u001b[1;33m\u001b[0m\u001b[0m\n\u001b[1;32m-> 1496\u001b[1;33m             \u001b[1;32mraise\u001b[0m \u001b[0mValueError\u001b[0m\u001b[1;33m(\u001b[0m\u001b[0mitem\u001b[0m\u001b[1;33m)\u001b[0m\u001b[1;33m\u001b[0m\u001b[0m\n\u001b[0m\u001b[0;32m   1497\u001b[0m \u001b[1;33m\u001b[0m\u001b[0m\n\u001b[0;32m   1498\u001b[0m     \u001b[1;32mdef\u001b[0m \u001b[0m__getattr__\u001b[0m\u001b[1;33m(\u001b[0m\u001b[0mself\u001b[0m\u001b[1;33m,\u001b[0m \u001b[0mitem\u001b[0m\u001b[1;33m)\u001b[0m\u001b[1;33m:\u001b[0m\u001b[1;33m\u001b[0m\u001b[0m\n",
      "\u001b[1;31mValueError\u001b[0m: StrikePrice"
     ]
    }
   ],
   "source": [
    "prices = getOptionPricesByTicker('ABBV')\n",
    "\n",
    "callPrices = []\n",
    "putPrices = []\n",
    "\n",
    "#callPricesStrike = getPricesByStrike(prices, 65.0)\n",
    "\n",
    "\n",
    "\n",
    "#callPricesSR = getPricesByStrikeAndRate(prices, 67.5, 1.67)\n",
    "\n",
    "callPrices = getCalls(prices)\n",
    "callPricesRate = priceToDic(getPricesByRiskFreeRate(prices, 1.67))\n",
    "#print(callPricesRate )\n",
    "\n",
    "putPrices = getPuts(prices)\n",
    "        \n",
    "numberOfDays = getNumberDaysArray(numOfDays)\n",
    "    "
   ]
  },
  {
   "cell_type": "code",
   "execution_count": null,
   "metadata": {},
   "outputs": [],
   "source": []
  },
  {
   "cell_type": "code",
   "execution_count": 7,
   "metadata": {},
   "outputs": [],
   "source": [
    "optionTicker = widgets.Dropdown( # not gonna work remove\n",
    "    options=tickerSymbols,\n",
    "    value=tickerSymbols[0],\n",
    "    description='Option Ticker symbol:',\n",
    ")\n",
    "g = GraphWidget('https://plot.ly/~kevintest/1192/')"
   ]
  },
  {
   "cell_type": "code",
   "execution_count": 13,
   "metadata": {},
   "outputs": [],
   "source": [
    "\n",
    "        \n",
    "def response2(change): # not gonna work remove\n",
    "    # print \"using date\"\n",
    "    if optionTicker.value:\n",
    "        filter_list = optionTicker.value\n",
    "        data = []\n",
    "        yData = []\n",
    "        opPriceDic = priceToArray(getPuts(getOptionPricesByTicker(filter_list)))\n",
    "        x = numberOfDays\n",
    "        for key, values in opPriceDic.items():\n",
    "            yData.append(values.copy())\n",
    "        g.restyle({'x': [numberOfDays],'y': [yData],  'type': 'line' })\n",
    "        g.relayout({'barmode': 'overlay', 'xaxis': {'title': 'Days to expiration'},\n",
    "                'yaxis': {'title': 'Price ($)'}})\n",
    "    \n",
    "\n"
   ]
  },
  {
   "cell_type": "code",
   "execution_count": 15,
   "metadata": {},
   "outputs": [
    {
     "data": {
      "application/vnd.jupyter.widget-view+json": {
       "model_id": "31eda4a615fd4800b5896b6e47e12868",
       "version_major": 2,
       "version_minor": 0
      },
      "text/html": [
       "<p>Failed to display Jupyter Widget of type <code>HBox</code>.</p>\n",
       "<p>\n",
       "  If you're reading this message in the Jupyter Notebook or JupyterLab Notebook, it may mean\n",
       "  that the widgets JavaScript is still loading. If this message persists, it\n",
       "  likely means that the widgets JavaScript library is either not installed or\n",
       "  not enabled. See the <a href=\"https://ipywidgets.readthedocs.io/en/stable/user_install.html\">Jupyter\n",
       "  Widgets Documentation</a> for setup instructions.\n",
       "</p>\n",
       "<p>\n",
       "  If you're reading this message in another frontend (for example, a static\n",
       "  rendering on GitHub or <a href=\"https://nbviewer.jupyter.org/\">NBViewer</a>),\n",
       "  it may mean that your frontend doesn't currently support widgets.\n",
       "</p>\n"
      ],
      "text/plain": [
       "HBox(children=(Dropdown(description='Option Ticker symbol:', index=3, options=('ABBV', 'MMM', 'MMM', 'ABT', 'ABT'), value='ABT'),))"
      ]
     },
     "metadata": {},
     "output_type": "display_data"
    },
    {
     "data": {
      "application/vnd.jupyter.widget-view+json": {
       "model_id": "4b9c3a83502c4cbb884fa373d3785dfe",
       "version_major": 2,
       "version_minor": 0
      },
      "text/html": [
       "<p>Failed to display Jupyter Widget of type <code>GraphWidget</code>.</p>\n",
       "<p>\n",
       "  If you're reading this message in the Jupyter Notebook or JupyterLab Notebook, it may mean\n",
       "  that the widgets JavaScript is still loading. If this message persists, it\n",
       "  likely means that the widgets JavaScript library is either not installed or\n",
       "  not enabled. See the <a href=\"https://ipywidgets.readthedocs.io/en/stable/user_install.html\">Jupyter\n",
       "  Widgets Documentation</a> for setup instructions.\n",
       "</p>\n",
       "<p>\n",
       "  If you're reading this message in another frontend (for example, a static\n",
       "  rendering on GitHub or <a href=\"https://nbviewer.jupyter.org/\">NBViewer</a>),\n",
       "  it may mean that your frontend doesn't currently support widgets.\n",
       "</p>\n"
      ],
      "text/plain": [
       "GraphWidget()"
      ]
     },
     "metadata": {},
     "output_type": "display_data"
    }
   ],
   "source": [
    "\n",
    "optionTicker.observe(response2, names=\"value\") # not gonna work remove all\n",
    "container2 = widgets.HBox([optionTicker]) \n",
    "display(container2)\n",
    "display(g)"
   ]
  },
  {
   "cell_type": "code",
   "execution_count": null,
   "metadata": {},
   "outputs": [],
   "source": [
    "\n"
   ]
  },
  {
   "cell_type": "code",
   "execution_count": null,
   "metadata": {},
   "outputs": [],
   "source": []
  },
  {
   "cell_type": "code",
   "execution_count": null,
   "metadata": {},
   "outputs": [],
   "source": []
  },
  {
   "cell_type": "code",
   "execution_count": null,
   "metadata": {
    "scrolled": true
   },
   "outputs": [],
   "source": []
  },
  {
   "cell_type": "code",
   "execution_count": 120,
   "metadata": {},
   "outputs": [],
   "source": [
    "# Function to get prices based on a specific ticker symbol\n",
    "def getOptionPricesByTicker(symbol):\n",
    "    return sparkSession.sql(\"SELECT Prices FROM optionData WHERE Ticker Like '\" + symbol + \"'\").collect()\n",
    "\n",
    "def getCalls(optionPrices):\n",
    "    callPrices = []\n",
    "    for i in optionPrices[0][0]:\n",
    "        if i['Call'] != None:\n",
    "            callPrices.append(i['Call'])\n",
    "    return callPrices\n",
    "\n",
    "def getPuts(optionPrices):\n",
    "    putPrices = []\n",
    "    for i in optionPrices[0][0]:\n",
    "        if i['Put'] != None:\n",
    "            putPrices.append(i['Put'])\n",
    "    return putPrices\n",
    "\n",
    "def getCalls2(optionPrices):\n",
    "    callPrices = []\n",
    "    for i in optionPrices[0][0]:\n",
    "        if i['Call'] != None:\n",
    "            callPrices.append(i)\n",
    "    return callPrices\n",
    "\n",
    "def getPuts2(optionPrices):\n",
    "    putPrices = []\n",
    "    for i in optionPrices[0][0]:\n",
    "        if i['Put'] != None:\n",
    "            putPrices.append(i)\n",
    "    return putPrices\n",
    "\n",
    "def priceToArray(opPrices):\n",
    "    prices = {}\n",
    "    count = 1\n",
    "    for i in opPrices:\n",
    "        priceArr = []\n",
    "        for x in i:\n",
    "            if x is not None:\n",
    "                priceArr.append(x)\n",
    "        prices['opt'+str(count)] = (priceArr.copy())\n",
    "        count = count + 1\n",
    "    return prices"
   ]
  },
  {
   "cell_type": "code",
   "execution_count": 121,
   "metadata": {},
   "outputs": [],
   "source": [
    "def graphCallsByTicker(tickerSymbol):\n",
    "    opPriceDic = getOptionPricesByTicker(tickerSymbol)\n",
    "    pp = getCalls(opPriceDic)\n",
    "    ppDic = priceToArray(pp)\n",
    "    numOfDays = sparkSession.sql(\"SELECT NumberOfDays FROM optionData WHERE Ticker Like '\" + tickerSymbol + \"'\").collect()\n",
    "    numberOfDays = getNumberDaysArray(numOfDays)\n",
    "    for key, values in ppDic.items():\n",
    "        plt.plot(numberOfDays, values)\n",
    "    plt.xlabel('Days to Expiration')\n",
    "    plt.ylabel('Option Prices')\n",
    "    plt.title('Calls Options for '+ tickerSymbol)\n",
    "    plt.show()"
   ]
  },
  {
   "cell_type": "code",
   "execution_count": 122,
   "metadata": {},
   "outputs": [
    {
     "data": {
      "application/vnd.jupyter.widget-view+json": {
       "model_id": "a54b1f3ef44f48a094a10b5d5dc7eff0",
       "version_major": 2,
       "version_minor": 0
      },
      "text/html": [
       "<p>Failed to display Jupyter Widget of type <code>interactive</code>.</p>\n",
       "<p>\n",
       "  If you're reading this message in the Jupyter Notebook or JupyterLab Notebook, it may mean\n",
       "  that the widgets JavaScript is still loading. If this message persists, it\n",
       "  likely means that the widgets JavaScript library is either not installed or\n",
       "  not enabled. See the <a href=\"https://ipywidgets.readthedocs.io/en/stable/user_install.html\">Jupyter\n",
       "  Widgets Documentation</a> for setup instructions.\n",
       "</p>\n",
       "<p>\n",
       "  If you're reading this message in another frontend (for example, a static\n",
       "  rendering on GitHub or <a href=\"https://nbviewer.jupyter.org/\">NBViewer</a>),\n",
       "  it may mean that your frontend doesn't currently support widgets.\n",
       "</p>\n"
      ],
      "text/plain": [
       "interactive(children=(Dropdown(description='tickerSymbol', options=('AMZN', 'GOOGL', 'ROK', 'GOOG', 'PCLN', 'MCHP', 'SPG', 'FDX', 'NTRS', 'AZO', 'NFLX', 'AAPL', 'CMG', 'CB', 'BA', 'AMAT', 'MU', 'VMC', 'NVDA', 'STX', 'CRM', 'WMT', 'CELG', 'AGN', 'GILD', 'BIIB', 'ADSK', 'CHTR', 'GPN', 'TGT', 'MSFT', 'MHK', 'NTAP', 'C', 'LOW', 'ABC', 'WDC', 'ISRG', 'DAL', 'JPM', 'LRCX', 'LMT', 'REGN', 'INTC', 'HCN', 'PYPL', 'BBY', 'FB', 'VLO', 'CAT', 'UAL', 'ULTA', 'GM', 'QCOM', 'AVGO', 'XOM', 'GS', 'ILMN', 'WYNN', 'MO', 'V', 'BLK', 'UNP', 'ORCL', 'ATVI', 'JNJ', 'SCHW', 'CMCSA', 'KSS', 'ABBV', 'RHT', 'SLB', 'ALGN', 'CVX', 'CLX', 'ADI', 'MGM', 'DE', 'COF', 'NKE', 'DLTR', 'PG', 'DG', 'NEM', 'AXP', 'CVS', 'DVN', 'WFC', 'CBOE', 'MCD', 'HD', 'EA', 'ESRX', 'TXN', 'ADBE', 'MNST', 'UPS', 'NOC', 'SHW', 'GE', 'URI', 'VZ', 'RCL', 'HCA', 'COST', 'CSCO', 'MMM', 'UNH', 'XLNX', 'DWDP', 'UTX', 'F', 'NSC', 'DIS', 'EXPE', 'TRIP', 'DISH', 'IBM', 'GPS', 'LUV', 'HAL', 'APC', 'CBS', 'AIG', 'BMY', 'AAL', 'NWL', 'PXD', 'CAH', 'APA', 'SWKS', 'MDLZ', 'KO', 'AMGN', 'HON', 'SYF', 'BAC', 'MOS', 'HAS', 'SBUX', 'ANTM', 'GWW', 'M', 'NUE', 'EFX', 'T', 'PEP', 'AKAM', 'PM', 'ANDV', 'EBAY', 'HUM', 'MAR', 'WBA', 'MRK', 'GRMN', 'KSU', 'LYB', 'TSCO', 'EOG', 'AMT', 'HES', 'ABT', 'AMD', 'TIF', 'CMI', 'INCY', 'KR', 'IP', 'MS', 'MDT', 'CME', 'OXY', 'PFE', 'MPC', 'KORS', 'BDX', 'PSX', 'FCX', 'ALXN', 'EQIX', 'CSX', 'GD', 'PCG', 'DFS', 'CCL', 'ETFC', 'COP', 'WHR', 'MET', 'DOV', 'CTL', 'ADM', 'HOG', 'GLW', 'EMR', 'ITW', 'NRG', 'DHI', 'MA', 'TROW', 'VFC', 'TWX', 'LLY', 'FFIV', 'CI', 'ETN', 'TAP', 'USB', 'KMI', 'RRC', 'HSY', 'CF', 'RL', 'MYL', 'VIAB', 'CTSH', 'YUM', 'AFL', 'SPGI', 'MCK', 'VRTX', 'FL', 'KMX', 'NOV', 'STZ', 'MON', 'TXT', 'TMO', 'CL', 'NFX', 'TSN', 'BK', 'ZTS', 'GPC', 'EW', 'CNC', 'HOLX', 'CXO', 'KMB', 'OKE', 'DHR', 'ADP', 'PPG', 'HP', 'SWK', 'ED', 'PSA', 'AAP', 'PH', 'BAX', 'XL', 'PDCO', 'HIG', 'MRO', 'BBT', 'ALB', 'FLR', 'CBG', 'GT', 'SYK', 'HRL', 'KLAC', 'PX', 'PRGO', 'PRU', 'WMB', 'MAT', 'PHM', 'ADS', 'HPQ', 'BHGE', 'ECL', 'AMG', 'BSX', 'PVH', 'IR', 'UAA', 'TPR', 'AMP', 'ACN', 'BRK.B', 'SNA', 'APD', 'QRVO', 'NCLH', 'SBAC', 'CTXS', 'EMN', 'ORLY', 'KEY', 'NDAQ', 'CAG', 'ARNC', 'AET', 'JNPR', 'RTN', 'SO', 'ICE', 'CERN', 'HPE', 'EQT', 'PAYX', 'FISV', 'VRSN', 'DLR', 'JCI', 'XEC', 'SYMC', 'COTY', 'K', 'COG', 'CPB', 'MTD', 'INTU', 'AYI', 'CDNS', 'AIZ', 'MLM', 'KHC', 'EVHC', 'TDG', 'NLSN', 'WY', 'UA', 'ZBH', 'NEE', 'ETR', 'CINF', 'FOXA', 'ALK', 'SEE', 'SNI', 'BXP', 'TJX', 'PWR', 'PNC', 'IDXX', 'HLT', 'JWN', 'FMC', 'O', 'CHRW', 'SYY', 'HRB', 'FE', 'LB', 'IT', 'FITB', 'DXC', 'ROST', 'PPL', 'MAS', 'ALL', 'LEN', 'IVZ', 'ANSS', 'EXC', 'UNM', 'LH', 'LUK', 'GGP', 'HBI', 'WYN', 'MCO', 'IPG', 'MAC', 'GIS', 'EL', 'PCAR', 'UHS', 'VRSK', 'MKC', 'VAR', 'STT', 'TRV', 'AWK', 'CMA', 'DPS', 'LNC', 'XRX', 'RF', 'FLIR', 'VTR', 'CTAS', 'CHK', 'FTI', 'RJF', 'MSI', 'OMC', 'EXR', 'SCG', 'HRS', 'SNPS', 'VNO', 'D', 'WAT', 'DUK', 'DRI', 'JBHT', 'WM', 'LKQ', 'DISCK', 'AVB', 'LLL', 'SRCL', 'CCI', 'ROP', 'FBHS', 'IRM', 'BWA', 'HST', 'MAA', 'JEC', 'COO', 'AME', 'SJM', 'CA', 'FRT', 'FOX', 'A', 'RHI', 'MTB', 'PKG', 'DVA', 'EIX', 'ALLE', 'SIG', 'SRE', 'AEP', 'PKI', 'HSIC', 'WLTW', 'PGR', 'AON', 'FAST', 'RMD', 'COL', 'FTV', 'EQR', 'STI', 'NBL', 'RE', 'IFF', 'WU', 'AVY', 'FIS', 'BHF', 'TEL', 'DGX', 'WRK', 'PNR', 'HBAN', 'PEG', 'CNP', 'XYL', 'AEE', 'FLS', 'PFG', 'BEN', 'TSS', 'CSRA', 'DISCA', 'L', 'NI', 'ESS', 'ARE', 'EXPD', 'AES', 'DLPH', 'RSG', 'XEL', 'ZION', 'BLL', 'APH', 'BF.B', 'CMS', 'LEG', 'XRAY', 'SLG', 'HCP', 'PBCT', 'WEC', 'ES', 'CFG', 'PLD', 'AIV', 'LNT', 'AOS', 'KIM', 'CHD', 'DTE', 'MMC', 'NAVI', 'TMK', 'UDR', 'PNW', 'AJG', 'DRE', 'REG', 'NWSA', 'INFO', 'NWS', 'DGX', 'BK'), value='AMZN'), Output()), _dom_classes=('widget-interact',))"
      ]
     },
     "metadata": {},
     "output_type": "display_data"
    }
   ],
   "source": [
    "interact(graphCallsByTicker, tickerSymbol=tickerSymbols);"
   ]
  },
  {
   "cell_type": "code",
   "execution_count": 26,
   "metadata": {},
   "outputs": [],
   "source": [
    "def graphPutsByTicker(tickerSymbol):\n",
    "    opPriceDic = priceToArray(getPuts(getOptionPricesByTicker(tickerSymbol)))\n",
    "    numOfDays = sparkSession.sql(\"SELECT NumberOfDays FROM optionData WHERE Ticker Like '\" + tickerSymbol + \"'\").collect()\n",
    "    numberOfDays = getNumberDaysArray(numOfDays)\n",
    "    for key, values in opPriceDic.items():\n",
    "        plt.plot(numberOfDays, values)\n",
    "    plt.xlabel('Days to Expiration')\n",
    "    plt.ylabel('Option Prices')\n",
    "    plt.title('Put Options for '+ tickerSymbol)\n",
    "    plt.show()"
   ]
  },
  {
   "cell_type": "code",
   "execution_count": 27,
   "metadata": {},
   "outputs": [
    {
     "data": {
      "application/vnd.jupyter.widget-view+json": {
       "model_id": "d03d26a10a4e4a268b479ee9155944a7",
       "version_major": 2,
       "version_minor": 0
      },
      "text/html": [
       "<p>Failed to display Jupyter Widget of type <code>interactive</code>.</p>\n",
       "<p>\n",
       "  If you're reading this message in the Jupyter Notebook or JupyterLab Notebook, it may mean\n",
       "  that the widgets JavaScript is still loading. If this message persists, it\n",
       "  likely means that the widgets JavaScript library is either not installed or\n",
       "  not enabled. See the <a href=\"https://ipywidgets.readthedocs.io/en/stable/user_install.html\">Jupyter\n",
       "  Widgets Documentation</a> for setup instructions.\n",
       "</p>\n",
       "<p>\n",
       "  If you're reading this message in another frontend (for example, a static\n",
       "  rendering on GitHub or <a href=\"https://nbviewer.jupyter.org/\">NBViewer</a>),\n",
       "  it may mean that your frontend doesn't currently support widgets.\n",
       "</p>\n"
      ],
      "text/plain": [
       "interactive(children=(Dropdown(description='tickerSymbol', options=('AMZN', 'GOOGL', 'ROK', 'GOOG', 'PCLN', 'MCHP', 'SPG', 'FDX', 'NTRS', 'AZO', 'NFLX', 'AAPL', 'CMG', 'CB', 'BA', 'AMAT', 'MU', 'VMC', 'NVDA', 'STX', 'CRM', 'WMT', 'CELG', 'AGN', 'GILD', 'BIIB', 'ADSK', 'CHTR', 'GPN', 'TGT', 'MSFT', 'MHK', 'NTAP', 'C', 'LOW', 'ABC', 'WDC', 'ISRG', 'DAL', 'JPM', 'LRCX', 'LMT', 'REGN', 'INTC', 'HCN', 'PYPL', 'BBY', 'FB', 'VLO', 'CAT', 'UAL', 'ULTA', 'GM', 'QCOM', 'AVGO', 'XOM', 'GS', 'ILMN', 'WYNN', 'MO', 'V', 'BLK', 'UNP', 'ORCL', 'ATVI', 'JNJ', 'SCHW', 'CMCSA', 'KSS', 'ABBV', 'RHT', 'SLB', 'ALGN', 'CVX', 'CLX', 'ADI', 'MGM', 'DE', 'COF', 'NKE', 'DLTR', 'PG', 'DG', 'NEM', 'AXP', 'CVS', 'DVN', 'WFC', 'CBOE', 'MCD', 'HD', 'EA', 'ESRX', 'TXN', 'ADBE', 'MNST', 'UPS', 'NOC', 'SHW', 'GE', 'URI', 'VZ', 'RCL', 'HCA', 'COST', 'CSCO', 'MMM', 'UNH', 'XLNX', 'DWDP', 'UTX', 'F', 'NSC', 'DIS', 'EXPE', 'TRIP', 'DISH', 'IBM', 'GPS', 'LUV', 'HAL', 'APC', 'CBS', 'AIG', 'BMY', 'AAL', 'NWL', 'PXD', 'CAH', 'APA', 'SWKS', 'MDLZ', 'KO', 'AMGN', 'HON', 'SYF', 'BAC', 'MOS', 'HAS', 'SBUX', 'ANTM', 'GWW', 'M', 'NUE', 'EFX', 'T', 'PEP', 'AKAM', 'PM', 'ANDV', 'EBAY', 'HUM', 'MAR', 'WBA', 'MRK', 'GRMN', 'KSU', 'LYB', 'TSCO', 'EOG', 'AMT', 'HES', 'ABT', 'AMD', 'TIF', 'CMI', 'INCY', 'KR', 'IP', 'MS', 'MDT', 'CME', 'OXY', 'PFE', 'MPC', 'KORS', 'BDX', 'PSX', 'FCX', 'ALXN', 'EQIX', 'CSX', 'GD', 'PCG', 'DFS', 'CCL', 'ETFC', 'COP', 'WHR', 'MET', 'DOV', 'CTL', 'ADM', 'HOG', 'GLW', 'EMR', 'ITW', 'NRG', 'DHI', 'MA', 'TROW', 'VFC', 'TWX', 'LLY', 'FFIV', 'CI', 'ETN', 'TAP', 'USB', 'KMI', 'RRC', 'HSY', 'CF', 'RL', 'MYL', 'VIAB', 'CTSH', 'YUM', 'AFL', 'SPGI', 'MCK', 'VRTX', 'FL', 'KMX', 'NOV', 'STZ', 'MON', 'TXT', 'TMO', 'CL', 'NFX', 'TSN', 'BK', 'ZTS', 'GPC', 'EW', 'CNC', 'HOLX', 'CXO', 'KMB', 'OKE', 'DHR', 'ADP', 'PPG', 'HP', 'SWK', 'ED', 'PSA', 'AAP', 'PH', 'BAX', 'XL', 'PDCO', 'HIG', 'MRO', 'BBT', 'ALB', 'FLR', 'CBG', 'GT', 'SYK', 'HRL', 'KLAC', 'PX', 'PRGO', 'PRU', 'WMB', 'MAT', 'PHM', 'ADS', 'HPQ', 'BHGE', 'ECL', 'AMG', 'BSX', 'PVH', 'IR', 'UAA', 'TPR', 'AMP', 'ACN', 'BRK.B', 'SNA', 'APD', 'QRVO', 'NCLH', 'SBAC', 'CTXS', 'EMN', 'ORLY', 'KEY', 'NDAQ', 'CAG', 'ARNC', 'AET', 'JNPR', 'RTN', 'SO', 'ICE', 'CERN', 'HPE', 'EQT', 'PAYX', 'FISV', 'VRSN', 'DLR', 'JCI', 'XEC', 'SYMC', 'COTY', 'K', 'COG', 'CPB', 'MTD', 'INTU', 'AYI', 'CDNS', 'AIZ', 'MLM', 'KHC', 'EVHC', 'TDG', 'NLSN', 'WY', 'UA', 'ZBH', 'NEE', 'ETR', 'CINF', 'FOXA', 'ALK', 'SEE', 'SNI', 'BXP', 'TJX', 'PWR', 'PNC', 'IDXX', 'HLT', 'JWN', 'FMC', 'O', 'CHRW', 'SYY', 'HRB', 'FE', 'LB', 'IT', 'FITB', 'DXC', 'ROST', 'PPL', 'MAS', 'ALL', 'LEN', 'IVZ', 'ANSS', 'EXC', 'UNM', 'LH', 'LUK', 'GGP', 'HBI', 'WYN', 'MCO', 'IPG', 'MAC', 'GIS', 'EL', 'PCAR', 'UHS', 'VRSK', 'MKC', 'VAR', 'STT', 'TRV', 'AWK', 'CMA', 'DPS', 'LNC', 'XRX', 'RF', 'FLIR', 'VTR', 'CTAS', 'CHK', 'FTI', 'RJF', 'MSI', 'OMC', 'EXR', 'SCG', 'HRS', 'SNPS', 'VNO', 'D', 'WAT', 'DUK', 'DRI', 'JBHT', 'WM', 'LKQ', 'DISCK', 'AVB', 'LLL', 'SRCL', 'CCI', 'ROP', 'FBHS', 'IRM', 'BWA', 'HST', 'MAA', 'JEC', 'COO', 'AME', 'SJM', 'CA', 'FRT', 'FOX', 'A', 'RHI', 'MTB', 'PKG', 'DVA', 'EIX', 'ALLE', 'SIG', 'SRE', 'AEP', 'PKI', 'HSIC', 'WLTW', 'PGR', 'AON', 'FAST', 'RMD', 'COL', 'FTV', 'EQR', 'STI', 'NBL', 'RE', 'IFF', 'WU', 'AVY', 'FIS', 'BHF', 'TEL', 'DGX', 'WRK', 'PNR', 'HBAN', 'PEG', 'CNP', 'XYL', 'AEE', 'FLS', 'PFG', 'BEN', 'TSS', 'CSRA', 'DISCA', 'L', 'NI', 'ESS', 'ARE', 'EXPD', 'AES', 'DLPH', 'RSG', 'XEL', 'ZION', 'BLL', 'APH', 'BF.B', 'CMS', 'LEG', 'XRAY', 'SLG', 'HCP', 'PBCT', 'WEC', 'ES', 'CFG', 'PLD', 'AIV', 'LNT', 'AOS', 'KIM', 'CHD', 'DTE', 'MMC', 'NAVI', 'TMK', 'UDR', 'PNW', 'AJG', 'DRE', 'REG', 'NWSA', 'INFO', 'NWS', 'DGX', 'BK'), value='AMZN'), Output()), _dom_classes=('widget-interact',))"
      ]
     },
     "metadata": {},
     "output_type": "display_data"
    }
   ],
   "source": [
    "interact(graphPutsByTicker, tickerSymbol=tickerSymbols);"
   ]
  },
  {
   "cell_type": "code",
   "execution_count": 83,
   "metadata": {},
   "outputs": [],
   "source": [
    "# def getPricesByStrike2(optionPrices, strike): # Think i can remove\n",
    "#     allPrices = []\n",
    "#     for i in optionPrices:\n",
    "#         if i!= None and i['StrikePrice'] == strike:\n",
    "#             allPrices.append(i['Put'])\n",
    "#     for i in allPrices:\n",
    "#         if i is None:\n",
    "#             allPrices.remove(i)\n",
    "#     for i in allPrices: # for some reason have to run twice as it skips last None in above \n",
    "#         if i is None:\n",
    "#             allPrices.remove(i)\n",
    "#     return allPrices\n"
   ]
  },
  {
   "cell_type": "code",
   "execution_count": 84,
   "metadata": {},
   "outputs": [],
   "source": [
    "def priceToDicForStrikeGraph(opPrices):\n",
    "    prices = {}\n",
    "    count = 1\n",
    "    for i in opPrices:\n",
    "        priceArr = []\n",
    "        for x in i:\n",
    "            if x is not None:\n",
    "                priceArr.append(x)\n",
    "        prices['opt'+str(count)] = (priceArr.copy())\n",
    "        count = count + 1\n",
    "    return prices"
   ]
  },
  {
   "cell_type": "code",
   "execution_count": 115,
   "metadata": {},
   "outputs": [],
   "source": [
    "def graphPutsByTickerWithStrike(strikePrice, tickerSymbol):\n",
    "    prices = getOptionPricesByTicker(tickerSymbol)\n",
    "    putPrices = getPuts2(prices)\n",
    "    rates = getRiskRateForGraph(tickerSymbol)\n",
    "    pp = getPricesByStrike( putPrices,strikePrice)\n",
    "    opPriceDic = priceToDicForStrikeGraph(pp)\n",
    "    numOfDays = sparkSession.sql(\"SELECT NumberOfDays FROM optionData WHERE Ticker Like '\" +\n",
    "                                 tickerSymbol + \"'\").collect()\n",
    "    numberOfDays = getNumberDaysArray(numOfDays)\n",
    "    count = 0 # to get correct rates for graph pointer texts\n",
    "    for key, values in opPriceDic.items():\n",
    "        textXPoint = numberOfDays[len(numberOfDays)-1] + 0.4 # cant do this in .annotate(xytext) \n",
    "        plt.plot(numberOfDays, values)\n",
    "        plt.annotate('Risk rate: '+str(rates[count]), xy=(numberOfDays[len(numberOfDays)-1], values[len(values)-1]), \n",
    "             xytext=(textXPoint, values[len(values)-1]),\n",
    "        arrowprops=dict(facecolor='black', shrink=0.05), bbox=dict(boxstyle=\"round\", fc=\"w\"),\n",
    "        )\n",
    "        count = count +1\n",
    "    plt.xlabel('Days to Expiration')\n",
    "    plt.ylabel('Option Prices')\n",
    "    plt.title('Put Options for '+ tickerSymbol + ' with Strike Price €' + str(strikePrice))\n",
    "    plt.show()"
   ]
  },
  {
   "cell_type": "code",
   "execution_count": 116,
   "metadata": {},
   "outputs": [],
   "source": [
    "def passTickerforPutStrike(tickerSymbol):\n",
    "    strikePrices = sparkSession.sql(\"SELECT Prices['StrikePrice'] FROM optionData WHERE Ticker Like '\"+ \n",
    "                                    tickerSymbol+\"'\").collect() # all use the same rates\n",
    "    strikePrices = getStrikePriceUnique(strikePrices)\n",
    "    interact(graphPutsByTickerWithStrike,strikePrice = strikePrices, tickerSymbol = fixed(tickerSymbol)); # Fixed removes extra interaction box"
   ]
  },
  {
   "cell_type": "code",
   "execution_count": 117,
   "metadata": {
    "scrolled": false
   },
   "outputs": [
    {
     "data": {
      "application/vnd.jupyter.widget-view+json": {
       "model_id": "85d004004cb348558a8d1bcdefe56cbe",
       "version_major": 2,
       "version_minor": 0
      },
      "text/html": [
       "<p>Failed to display Jupyter Widget of type <code>interactive</code>.</p>\n",
       "<p>\n",
       "  If you're reading this message in the Jupyter Notebook or JupyterLab Notebook, it may mean\n",
       "  that the widgets JavaScript is still loading. If this message persists, it\n",
       "  likely means that the widgets JavaScript library is either not installed or\n",
       "  not enabled. See the <a href=\"https://ipywidgets.readthedocs.io/en/stable/user_install.html\">Jupyter\n",
       "  Widgets Documentation</a> for setup instructions.\n",
       "</p>\n",
       "<p>\n",
       "  If you're reading this message in another frontend (for example, a static\n",
       "  rendering on GitHub or <a href=\"https://nbviewer.jupyter.org/\">NBViewer</a>),\n",
       "  it may mean that your frontend doesn't currently support widgets.\n",
       "</p>\n"
      ],
      "text/plain": [
       "interactive(children=(Dropdown(description='tickerSymbol', options=('AMZN', 'GOOGL', 'ROK', 'GOOG', 'PCLN', 'MCHP', 'SPG', 'FDX', 'NTRS', 'AZO', 'NFLX', 'AAPL', 'CMG', 'CB', 'BA', 'AMAT', 'MU', 'VMC', 'NVDA', 'STX', 'CRM', 'WMT', 'CELG', 'AGN', 'GILD', 'BIIB', 'ADSK', 'CHTR', 'GPN', 'TGT', 'MSFT', 'MHK', 'NTAP', 'C', 'LOW', 'ABC', 'WDC', 'ISRG', 'DAL', 'JPM', 'LRCX', 'LMT', 'REGN', 'INTC', 'HCN', 'PYPL', 'BBY', 'FB', 'VLO', 'CAT', 'UAL', 'ULTA', 'GM', 'QCOM', 'AVGO', 'XOM', 'GS', 'ILMN', 'WYNN', 'MO', 'V', 'BLK', 'UNP', 'ORCL', 'ATVI', 'JNJ', 'SCHW', 'CMCSA', 'KSS', 'ABBV', 'RHT', 'SLB', 'ALGN', 'CVX', 'CLX', 'ADI', 'MGM', 'DE', 'COF', 'NKE', 'DLTR', 'PG', 'DG', 'NEM', 'AXP', 'CVS', 'DVN', 'WFC', 'CBOE', 'MCD', 'HD', 'EA', 'ESRX', 'TXN', 'ADBE', 'MNST', 'UPS', 'NOC', 'SHW', 'GE', 'URI', 'VZ', 'RCL', 'HCA', 'COST', 'CSCO', 'MMM', 'UNH', 'XLNX', 'DWDP', 'UTX', 'F', 'NSC', 'DIS', 'EXPE', 'TRIP', 'DISH', 'IBM', 'GPS', 'LUV', 'HAL', 'APC', 'CBS', 'AIG', 'BMY', 'AAL', 'NWL', 'PXD', 'CAH', 'APA', 'SWKS', 'MDLZ', 'KO', 'AMGN', 'HON', 'SYF', 'BAC', 'MOS', 'HAS', 'SBUX', 'ANTM', 'GWW', 'M', 'NUE', 'EFX', 'T', 'PEP', 'AKAM', 'PM', 'ANDV', 'EBAY', 'HUM', 'MAR', 'WBA', 'MRK', 'GRMN', 'KSU', 'LYB', 'TSCO', 'EOG', 'AMT', 'HES', 'ABT', 'AMD', 'TIF', 'CMI', 'INCY', 'KR', 'IP', 'MS', 'MDT', 'CME', 'OXY', 'PFE', 'MPC', 'KORS', 'BDX', 'PSX', 'FCX', 'ALXN', 'EQIX', 'CSX', 'GD', 'PCG', 'DFS', 'CCL', 'ETFC', 'COP', 'WHR', 'MET', 'DOV', 'CTL', 'ADM', 'HOG', 'GLW', 'EMR', 'ITW', 'NRG', 'DHI', 'MA', 'TROW', 'VFC', 'TWX', 'LLY', 'FFIV', 'CI', 'ETN', 'TAP', 'USB', 'KMI', 'RRC', 'HSY', 'CF', 'RL', 'MYL', 'VIAB', 'CTSH', 'YUM', 'AFL', 'SPGI', 'MCK', 'VRTX', 'FL', 'KMX', 'NOV', 'STZ', 'MON', 'TXT', 'TMO', 'CL', 'NFX', 'TSN', 'BK', 'ZTS', 'GPC', 'EW', 'CNC', 'HOLX', 'CXO', 'KMB', 'OKE', 'DHR', 'ADP', 'PPG', 'HP', 'SWK', 'ED', 'PSA', 'AAP', 'PH', 'BAX', 'XL', 'PDCO', 'HIG', 'MRO', 'BBT', 'ALB', 'FLR', 'CBG', 'GT', 'SYK', 'HRL', 'KLAC', 'PX', 'PRGO', 'PRU', 'WMB', 'MAT', 'PHM', 'ADS', 'HPQ', 'BHGE', 'ECL', 'AMG', 'BSX', 'PVH', 'IR', 'UAA', 'TPR', 'AMP', 'ACN', 'BRK.B', 'SNA', 'APD', 'QRVO', 'NCLH', 'SBAC', 'CTXS', 'EMN', 'ORLY', 'KEY', 'NDAQ', 'CAG', 'ARNC', 'AET', 'JNPR', 'RTN', 'SO', 'ICE', 'CERN', 'HPE', 'EQT', 'PAYX', 'FISV', 'VRSN', 'DLR', 'JCI', 'XEC', 'SYMC', 'COTY', 'K', 'COG', 'CPB', 'MTD', 'INTU', 'AYI', 'CDNS', 'AIZ', 'MLM', 'KHC', 'EVHC', 'TDG', 'NLSN', 'WY', 'UA', 'ZBH', 'NEE', 'ETR', 'CINF', 'FOXA', 'ALK', 'SEE', 'SNI', 'BXP', 'TJX', 'PWR', 'PNC', 'IDXX', 'HLT', 'JWN', 'FMC', 'O', 'CHRW', 'SYY', 'HRB', 'FE', 'LB', 'IT', 'FITB', 'DXC', 'ROST', 'PPL', 'MAS', 'ALL', 'LEN', 'IVZ', 'ANSS', 'EXC', 'UNM', 'LH', 'LUK', 'GGP', 'HBI', 'WYN', 'MCO', 'IPG', 'MAC', 'GIS', 'EL', 'PCAR', 'UHS', 'VRSK', 'MKC', 'VAR', 'STT', 'TRV', 'AWK', 'CMA', 'DPS', 'LNC', 'XRX', 'RF', 'FLIR', 'VTR', 'CTAS', 'CHK', 'FTI', 'RJF', 'MSI', 'OMC', 'EXR', 'SCG', 'HRS', 'SNPS', 'VNO', 'D', 'WAT', 'DUK', 'DRI', 'JBHT', 'WM', 'LKQ', 'DISCK', 'AVB', 'LLL', 'SRCL', 'CCI', 'ROP', 'FBHS', 'IRM', 'BWA', 'HST', 'MAA', 'JEC', 'COO', 'AME', 'SJM', 'CA', 'FRT', 'FOX', 'A', 'RHI', 'MTB', 'PKG', 'DVA', 'EIX', 'ALLE', 'SIG', 'SRE', 'AEP', 'PKI', 'HSIC', 'WLTW', 'PGR', 'AON', 'FAST', 'RMD', 'COL', 'FTV', 'EQR', 'STI', 'NBL', 'RE', 'IFF', 'WU', 'AVY', 'FIS', 'BHF', 'TEL', 'DGX', 'WRK', 'PNR', 'HBAN', 'PEG', 'CNP', 'XYL', 'AEE', 'FLS', 'PFG', 'BEN', 'TSS', 'CSRA', 'DISCA', 'L', 'NI', 'ESS', 'ARE', 'EXPD', 'AES', 'DLPH', 'RSG', 'XEL', 'ZION', 'BLL', 'APH', 'BF.B', 'CMS', 'LEG', 'XRAY', 'SLG', 'HCP', 'PBCT', 'WEC', 'ES', 'CFG', 'PLD', 'AIV', 'LNT', 'AOS', 'KIM', 'CHD', 'DTE', 'MMC', 'NAVI', 'TMK', 'UDR', 'PNW', 'AJG', 'DRE', 'REG', 'NWSA', 'INFO', 'NWS', 'DGX', 'BK'), value='AMZN'), Output()), _dom_classes=('widget-interact',))"
      ]
     },
     "metadata": {},
     "output_type": "display_data"
    }
   ],
   "source": [
    "\n",
    "interact(passTickerforPutStrike,tickerSymbol=tickerSymbols);"
   ]
  },
  {
   "cell_type": "code",
   "execution_count": 80,
   "metadata": {},
   "outputs": [],
   "source": []
  },
  {
   "cell_type": "code",
   "execution_count": 109,
   "metadata": {},
   "outputs": [],
   "source": [
    "def getPricesByStrikeCall(optionPrices, strike):\n",
    "    allPrices = []\n",
    "    for i in optionPrices:\n",
    "        if i!= None and i['StrikePrice'] == strike:\n",
    "            allPrices.append(i['Call'])\n",
    "    for i in allPrices:\n",
    "        if i is None:\n",
    "            allPrices.remove(i)\n",
    "    for i in allPrices: # for some reason have to run twice as it skips last None in above \n",
    "        if i is None:\n",
    "            allPrices.remove(i)\n",
    "    return allPrices\n",
    "\n",
    "\n",
    "def graphCallsByTickerWithStrike(strikePrice, tickerSymbol):\n",
    "    prices = getOptionPricesByTicker(tickerSymbol)\n",
    "    callPrices = getCalls2(prices)\n",
    "    rates = getRiskRateForGraph(tickerSymbol)\n",
    "    pp = getPricesByStrikeCall( callPrices,strikePrice)\n",
    "    opPriceDic = priceToArray2(pp)\n",
    "    numOfDays = sparkSession.sql(\"SELECT NumberOfDays FROM optionData WHERE Ticker Like '\" + tickerSymbol + \"'\").collect()\n",
    "    numberOfDays = getNumberDaysArray(numOfDays)\n",
    "    count = 0 # to get correct rates for graph pointer texts\n",
    "    for key, values in opPriceDic.items():\n",
    "        textXPoint = numberOfDays[len(numberOfDays)-1] + 1  # cant do this in .annotate(xytext) \n",
    "        plt.plot(numberOfDays, values)\n",
    "        plt.annotate('Risk rate: '+str(rates[count]), xy=(numberOfDays[len(numberOfDays)-1], values[len(values)-1]), \n",
    "                     xytext=(textXPoint, values[len(values)-1]),\n",
    "            arrowprops=dict(facecolor='black', shrink=0.05), bbox=dict(boxstyle=\"round\", fc=\"w\"),\n",
    "            )\n",
    "        count = count +1\n",
    "    plt.xlabel('Days to Expiration')\n",
    "    plt.ylabel('Option Prices')\n",
    "    plt.title('Call Options for '+ tickerSymbol + ' with Strike Price €' + str(strikePrice))\n",
    "    plt.show()\n",
    "    \n",
    "def passTickerforCallStrike(tickerSymbol):\n",
    "    strikePrices = sparkSession.sql(\"SELECT Prices['StrikePrice'] FROM optionData WHERE Ticker Like '\"+ tickerSymbol+\"'\").collect() # all use the same rates\n",
    "    strikePrices = getStrikePriceUnique(strikePrices)\n",
    "    interact(graphCallsByTickerWithStrike, strikePrice = strikePrices, tickerSymbol = fixed(tickerSymbol)); # Fixed removes extra interaction box);"
   ]
  },
  {
   "cell_type": "code",
   "execution_count": 110,
   "metadata": {},
   "outputs": [
    {
     "data": {
      "application/vnd.jupyter.widget-view+json": {
       "model_id": "05e814ce24a04f2383e8c877fbf82fe5",
       "version_major": 2,
       "version_minor": 0
      },
      "text/html": [
       "<p>Failed to display Jupyter Widget of type <code>interactive</code>.</p>\n",
       "<p>\n",
       "  If you're reading this message in the Jupyter Notebook or JupyterLab Notebook, it may mean\n",
       "  that the widgets JavaScript is still loading. If this message persists, it\n",
       "  likely means that the widgets JavaScript library is either not installed or\n",
       "  not enabled. See the <a href=\"https://ipywidgets.readthedocs.io/en/stable/user_install.html\">Jupyter\n",
       "  Widgets Documentation</a> for setup instructions.\n",
       "</p>\n",
       "<p>\n",
       "  If you're reading this message in another frontend (for example, a static\n",
       "  rendering on GitHub or <a href=\"https://nbviewer.jupyter.org/\">NBViewer</a>),\n",
       "  it may mean that your frontend doesn't currently support widgets.\n",
       "</p>\n"
      ],
      "text/plain": [
       "interactive(children=(Dropdown(description='tickerSymbol', options=('AMZN', 'GOOGL', 'ROK', 'GOOG', 'PCLN', 'MCHP', 'SPG', 'FDX', 'NTRS', 'AZO', 'NFLX', 'AAPL', 'CMG', 'CB', 'BA', 'AMAT', 'MU', 'VMC', 'NVDA', 'STX', 'CRM', 'WMT', 'CELG', 'AGN', 'GILD', 'BIIB', 'ADSK', 'CHTR', 'GPN', 'TGT', 'MSFT', 'MHK', 'NTAP', 'C', 'LOW', 'ABC', 'WDC', 'ISRG', 'DAL', 'JPM', 'LRCX', 'LMT', 'REGN', 'INTC', 'HCN', 'PYPL', 'BBY', 'FB', 'VLO', 'CAT', 'UAL', 'ULTA', 'GM', 'QCOM', 'AVGO', 'XOM', 'GS', 'ILMN', 'WYNN', 'MO', 'V', 'BLK', 'UNP', 'ORCL', 'ATVI', 'JNJ', 'SCHW', 'CMCSA', 'KSS', 'ABBV', 'RHT', 'SLB', 'ALGN', 'CVX', 'CLX', 'ADI', 'MGM', 'DE', 'COF', 'NKE', 'DLTR', 'PG', 'DG', 'NEM', 'AXP', 'CVS', 'DVN', 'WFC', 'CBOE', 'MCD', 'HD', 'EA', 'ESRX', 'TXN', 'ADBE', 'MNST', 'UPS', 'NOC', 'SHW', 'GE', 'URI', 'VZ', 'RCL', 'HCA', 'COST', 'CSCO', 'MMM', 'UNH', 'XLNX', 'DWDP', 'UTX', 'F', 'NSC', 'DIS', 'EXPE', 'TRIP', 'DISH', 'IBM', 'GPS', 'LUV', 'HAL', 'APC', 'CBS', 'AIG', 'BMY', 'AAL', 'NWL', 'PXD', 'CAH', 'APA', 'SWKS', 'MDLZ', 'KO', 'AMGN', 'HON', 'SYF', 'BAC', 'MOS', 'HAS', 'SBUX', 'ANTM', 'GWW', 'M', 'NUE', 'EFX', 'T', 'PEP', 'AKAM', 'PM', 'ANDV', 'EBAY', 'HUM', 'MAR', 'WBA', 'MRK', 'GRMN', 'KSU', 'LYB', 'TSCO', 'EOG', 'AMT', 'HES', 'ABT', 'AMD', 'TIF', 'CMI', 'INCY', 'KR', 'IP', 'MS', 'MDT', 'CME', 'OXY', 'PFE', 'MPC', 'KORS', 'BDX', 'PSX', 'FCX', 'ALXN', 'EQIX', 'CSX', 'GD', 'PCG', 'DFS', 'CCL', 'ETFC', 'COP', 'WHR', 'MET', 'DOV', 'CTL', 'ADM', 'HOG', 'GLW', 'EMR', 'ITW', 'NRG', 'DHI', 'MA', 'TROW', 'VFC', 'TWX', 'LLY', 'FFIV', 'CI', 'ETN', 'TAP', 'USB', 'KMI', 'RRC', 'HSY', 'CF', 'RL', 'MYL', 'VIAB', 'CTSH', 'YUM', 'AFL', 'SPGI', 'MCK', 'VRTX', 'FL', 'KMX', 'NOV', 'STZ', 'MON', 'TXT', 'TMO', 'CL', 'NFX', 'TSN', 'BK', 'ZTS', 'GPC', 'EW', 'CNC', 'HOLX', 'CXO', 'KMB', 'OKE', 'DHR', 'ADP', 'PPG', 'HP', 'SWK', 'ED', 'PSA', 'AAP', 'PH', 'BAX', 'XL', 'PDCO', 'HIG', 'MRO', 'BBT', 'ALB', 'FLR', 'CBG', 'GT', 'SYK', 'HRL', 'KLAC', 'PX', 'PRGO', 'PRU', 'WMB', 'MAT', 'PHM', 'ADS', 'HPQ', 'BHGE', 'ECL', 'AMG', 'BSX', 'PVH', 'IR', 'UAA', 'TPR', 'AMP', 'ACN', 'BRK.B', 'SNA', 'APD', 'QRVO', 'NCLH', 'SBAC', 'CTXS', 'EMN', 'ORLY', 'KEY', 'NDAQ', 'CAG', 'ARNC', 'AET', 'JNPR', 'RTN', 'SO', 'ICE', 'CERN', 'HPE', 'EQT', 'PAYX', 'FISV', 'VRSN', 'DLR', 'JCI', 'XEC', 'SYMC', 'COTY', 'K', 'COG', 'CPB', 'MTD', 'INTU', 'AYI', 'CDNS', 'AIZ', 'MLM', 'KHC', 'EVHC', 'TDG', 'NLSN', 'WY', 'UA', 'ZBH', 'NEE', 'ETR', 'CINF', 'FOXA', 'ALK', 'SEE', 'SNI', 'BXP', 'TJX', 'PWR', 'PNC', 'IDXX', 'HLT', 'JWN', 'FMC', 'O', 'CHRW', 'SYY', 'HRB', 'FE', 'LB', 'IT', 'FITB', 'DXC', 'ROST', 'PPL', 'MAS', 'ALL', 'LEN', 'IVZ', 'ANSS', 'EXC', 'UNM', 'LH', 'LUK', 'GGP', 'HBI', 'WYN', 'MCO', 'IPG', 'MAC', 'GIS', 'EL', 'PCAR', 'UHS', 'VRSK', 'MKC', 'VAR', 'STT', 'TRV', 'AWK', 'CMA', 'DPS', 'LNC', 'XRX', 'RF', 'FLIR', 'VTR', 'CTAS', 'CHK', 'FTI', 'RJF', 'MSI', 'OMC', 'EXR', 'SCG', 'HRS', 'SNPS', 'VNO', 'D', 'WAT', 'DUK', 'DRI', 'JBHT', 'WM', 'LKQ', 'DISCK', 'AVB', 'LLL', 'SRCL', 'CCI', 'ROP', 'FBHS', 'IRM', 'BWA', 'HST', 'MAA', 'JEC', 'COO', 'AME', 'SJM', 'CA', 'FRT', 'FOX', 'A', 'RHI', 'MTB', 'PKG', 'DVA', 'EIX', 'ALLE', 'SIG', 'SRE', 'AEP', 'PKI', 'HSIC', 'WLTW', 'PGR', 'AON', 'FAST', 'RMD', 'COL', 'FTV', 'EQR', 'STI', 'NBL', 'RE', 'IFF', 'WU', 'AVY', 'FIS', 'BHF', 'TEL', 'DGX', 'WRK', 'PNR', 'HBAN', 'PEG', 'CNP', 'XYL', 'AEE', 'FLS', 'PFG', 'BEN', 'TSS', 'CSRA', 'DISCA', 'L', 'NI', 'ESS', 'ARE', 'EXPD', 'AES', 'DLPH', 'RSG', 'XEL', 'ZION', 'BLL', 'APH', 'BF.B', 'CMS', 'LEG', 'XRAY', 'SLG', 'HCP', 'PBCT', 'WEC', 'ES', 'CFG', 'PLD', 'AIV', 'LNT', 'AOS', 'KIM', 'CHD', 'DTE', 'MMC', 'NAVI', 'TMK', 'UDR', 'PNW', 'AJG', 'DRE', 'REG', 'NWSA', 'INFO', 'NWS', 'DGX', 'BK'), value='AMZN'), Output()), _dom_classes=('widget-interact',))"
      ]
     },
     "metadata": {},
     "output_type": "display_data"
    }
   ],
   "source": [
    "interact(passTickerforCallStrike, tickerSymbol=tickerSymbols);"
   ]
  },
  {
   "cell_type": "code",
   "execution_count": 106,
   "metadata": {},
   "outputs": [],
   "source": [
    "def graphCallByTickerWithRate(tickerSymbol, rate):\n",
    "    prices = getOptionPricesByTicker(tickerSymbol)\n",
    "    prices = getCalls(prices)\n",
    "    opPriceDic = getSingleCall(getPricesByRiskFreeRate(prices,rate))\n",
    "    numOfDays = sparkSession.sql(\"SELECT NumberOfDays FROM optionData WHERE Ticker Like '\" + tickerSymbol + \"'\").collect()\n",
    "    numberOfDays = getNumberDaysArray(numOfDays)\n",
    "    plt.plot(numberOfDays, opPriceDic)\n",
    "    plt.xlabel('Days to Expiration')\n",
    "    plt.ylabel('Option Prices')\n",
    "    plt.title('Call Options for '+ tickerSymbol + ' with risk free rate ' + str(rate))\n",
    "    plt.show()"
   ]
  },
  {
   "cell_type": "code",
   "execution_count": 107,
   "metadata": {},
   "outputs": [],
   "source": [
    "def passRateCall(rate):\n",
    "    interact(graphCallByTickerWithRate, tickerSymbol=tickerSymbols,rate=rate);"
   ]
  },
  {
   "cell_type": "code",
   "execution_count": 108,
   "metadata": {},
   "outputs": [
    {
     "data": {
      "application/vnd.jupyter.widget-view+json": {
       "model_id": "8d50deeac2fd44969cc489750ccf806b",
       "version_major": 2,
       "version_minor": 0
      },
      "text/html": [
       "<p>Failed to display Jupyter Widget of type <code>interactive</code>.</p>\n",
       "<p>\n",
       "  If you're reading this message in the Jupyter Notebook or JupyterLab Notebook, it may mean\n",
       "  that the widgets JavaScript is still loading. If this message persists, it\n",
       "  likely means that the widgets JavaScript library is either not installed or\n",
       "  not enabled. See the <a href=\"https://ipywidgets.readthedocs.io/en/stable/user_install.html\">Jupyter\n",
       "  Widgets Documentation</a> for setup instructions.\n",
       "</p>\n",
       "<p>\n",
       "  If you're reading this message in another frontend (for example, a static\n",
       "  rendering on GitHub or <a href=\"https://nbviewer.jupyter.org/\">NBViewer</a>),\n",
       "  it may mean that your frontend doesn't currently support widgets.\n",
       "</p>\n"
      ],
      "text/plain": [
       "interactive(children=(Dropdown(description='rate', options=(Row(riskFreeRates=[1.67, 1.87875]),), value=Row(riskFreeRates=[1.67, 1.87875])), Output()), _dom_classes=('widget-interact',))"
      ]
     },
     "metadata": {},
     "output_type": "display_data"
    }
   ],
   "source": [
    "interact(passRateCall, rate = riskFreeRates);"
   ]
  },
  {
   "cell_type": "code",
   "execution_count": null,
   "metadata": {},
   "outputs": [],
   "source": []
  },
  {
   "cell_type": "code",
   "execution_count": null,
   "metadata": {},
   "outputs": [],
   "source": []
  },
  {
   "cell_type": "code",
   "execution_count": null,
   "metadata": {},
   "outputs": [],
   "source": [
    "# def graph(ticker):    \n",
    "#     # Code for put by ticker\n",
    "#     data = []\n",
    "#     opPriceDic = priceToArray(getPuts(getOptionPricesByTicker(ticker)))\n",
    "#     for key, values in opPriceDic.items():\n",
    "#         trace = go.Scatter(\n",
    "#             x = numberOfDays,\n",
    "#             y = values,\n",
    "#             name = 'option',\n",
    "#             line = dict(\n",
    "#                 width = 4)\n",
    "#         )\n",
    "#         data.append(trace)\n",
    "#     # Edit the layout\n",
    "#     layout = dict(title = 'Call prices for ' ,\n",
    "#                   xaxis = dict(title = 'Days to Expiration'),\n",
    "#                   yaxis = dict(title = 'Price '),\n",
    "#                   )\n",
    "#     fig = dict(data=data, layout=layout)\n",
    "#     py.iplot(fig, filename='calls For ')"
   ]
  },
  {
   "cell_type": "code",
   "execution_count": null,
   "metadata": {},
   "outputs": [],
   "source": [
    "# Code for calls by ticker\n",
    "# data = []\n",
    "# opPriceDic = priceToArray(getCalls(getOptionPricesByTicker('ABBV')))\n",
    "# for key, values in opPriceDic.items():\n",
    "#     trace = go.Scatter(\n",
    "#         x = numberOfDays,\n",
    "#         y = values,\n",
    "#         name = 'option',\n",
    "#         line = dict(\n",
    "#             width = 4)\n",
    "#     )\n",
    "#     data.append(trace)\n",
    "# # Edit the layout\n",
    "# layout = dict(title = 'Call prices for ' ,\n",
    "#               xaxis = dict(title = 'Days to Expiration'),\n",
    "#               yaxis = dict(title = 'Price '),\n",
    "#               )\n",
    "# fig = dict(data=data, layout=layout)\n",
    "# py.iplot(fig, filename='calls For ')"
   ]
  },
  {
   "cell_type": "code",
   "execution_count": null,
   "metadata": {},
   "outputs": [],
   "source": []
  },
  {
   "cell_type": "code",
   "execution_count": null,
   "metadata": {},
   "outputs": [],
   "source": []
  },
  {
   "cell_type": "code",
   "execution_count": 105,
   "metadata": {},
   "outputs": [],
   "source": [
    "# demo purposes To remove\n",
    "# import plotly.plotly as py \n",
    "# import plotly.graph_objs as go \n",
    "\n",
    "\n",
    "\n",
    "# data = []\n",
    "# opPriceDic = priceToArray(getPuts(getOptionPricesByTicker('ZTS')))\n",
    "# for key, values in opPriceDic.items():\n",
    "#     trace = go.Scatter(\n",
    "#         x = numberOfDays,\n",
    "#         y = values,\n",
    "#         name = 'option',\n",
    "#         line = dict(\n",
    "#             width = 4)\n",
    "#     )\n",
    "#     data.append(trace)\n",
    "\n",
    "# high_annotations=[dict(x='2016-03-01',\n",
    "#                        y=5,\n",
    "#                        xref='x', yref='y',\n",
    "#                        text='High Average:<br>'+str(6),\n",
    "#                        ax=0, ay=-40),\n",
    "#                   dict(x=5,\n",
    "#                        y=5,\n",
    "#                        xref='x', yref='y',\n",
    "#                        text='High Max:<br>'+str(6),\n",
    "#                        ax=0, ay=-40)]\n",
    "# low_annotations=[dict(x='2015-05-01',\n",
    "#                       y=1,\n",
    "#                       xref='x', yref='y',\n",
    "#                       text='Low Average:<br>'+str(1),\n",
    "#                       ax=0, ay=40),\n",
    "#                  dict(x=1,\n",
    "#                       y=1,\n",
    "#                       xref='x', yref='y',\n",
    "#                       text='Low Min:<br>'+str(1),\n",
    "#                       ax=0, ay=40)]\n",
    "\n",
    "# updatemenus = list([\n",
    "#     dict(active=-1,\n",
    "#          buttons=list([   \n",
    "#             dict(label = 'MMM',\n",
    "#                  method = 'update',\n",
    "#                  args = [{'visible': [True, True, False, False]},\n",
    "#                          {'title': 'Yahoo High',\n",
    "#                           'annotations': high_annotations}]),\n",
    "#             dict(label = 'Low',\n",
    "#                  method = 'update',\n",
    "#                  args = [{'visible': [False, False, True, True]},\n",
    "#                          {'title': 'Yahoo Low',\n",
    "#                           'annotations': low_annotations}]),\n",
    "#             dict(label = 'Both',\n",
    "#                  method = 'update',\n",
    "#                  args = [{'visible': [True, True, True, True]},\n",
    "#                          {'title': 'Yahoo',\n",
    "#                           'annotations': high_annotations+low_annotations}]),\n",
    "#             dict(label = 'Reset',\n",
    "#                  method = 'update',\n",
    "#                  args = [{'visible': [True, False, True, False]},\n",
    "#                          {'title': 'Yahoo',\n",
    "#                           'annotations': []}])\n",
    "#         ]),\n",
    "#     )\n",
    "# ])\n",
    "\n",
    "# layout = dict(title='Yahoo', showlegend=False,\n",
    "#               updatemenus=updatemenus)\n",
    "\n",
    "# fig = dict(data=data, layout=layout)\n",
    "# py.iplot(fig, filename='update_dropdown')"
   ]
  },
  {
   "cell_type": "code",
   "execution_count": null,
   "metadata": {},
   "outputs": [],
   "source": []
  }
 ],
 "metadata": {
  "kernelspec": {
   "display_name": "Python 3",
   "language": "python",
   "name": "python3"
  },
  "language_info": {
   "codemirror_mode": {
    "name": "ipython",
    "version": 3
   },
   "file_extension": ".py",
   "mimetype": "text/x-python",
   "name": "python",
   "nbconvert_exporter": "python",
   "pygments_lexer": "ipython3",
   "version": "3.6.2"
  }
 },
 "nbformat": 4,
 "nbformat_minor": 2
}

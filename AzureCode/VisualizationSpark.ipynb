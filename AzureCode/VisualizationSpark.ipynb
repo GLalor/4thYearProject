{
 "cells": [
  {
   "cell_type": "code",
   "execution_count": 1,
   "metadata": {},
   "outputs": [],
   "source": [
    "import numpy as np\n",
    "from ipywidgets import interact, interactive, fixed, interact_manual\n",
    "import ipywidgets as widgets\n",
    "import matplotlib.pyplot as plt  # mathplotlib\n",
    "import extractDataSpark\n",
    "tickerSymbols = extractDataSpark.getTickerSymbols()"
   ]
  },
  {
   "cell_type": "code",
   "execution_count": null,
   "metadata": {},
   "outputs": [],
   "source": []
  },
  {
   "cell_type": "code",
   "execution_count": 2,
   "metadata": {},
   "outputs": [
    {
     "data": {
      "application/vnd.jupyter.widget-view+json": {
       "model_id": "70ae8207cb094ef79cc1e391a3a59924",
       "version_major": 2,
       "version_minor": 0
      },
      "text/plain": [
       "interactive(children=(Dropdown(description='tickerSymbol', options=('CA', 'TJX', 'TMK'), value='CA'), Output()…"
      ]
     },
     "metadata": {},
     "output_type": "display_data"
    }
   ],
   "source": [
    "def graphCallsByTicker(tickerSymbol):\n",
    "    optionPrices = extractDataSpark.getOptionPricesByTicker(tickerSymbol)\n",
    "    calls = extractDataSpark.getCallPrices(optionPrices)\n",
    "    calls = extractDataSpark.convertPricesToDic(calls)\n",
    "    numberOfDays = extractDataSpark.getNumberOfDays(tickerSymbol)\n",
    "    for key, values in calls.items():\n",
    "        plt.plot(numberOfDays, values)\n",
    "    plt.xlabel('Days to Expiration')\n",
    "    plt.ylabel('Potential Profit')\n",
    "    plt.title('Calls Options for '+ tickerSymbol)\n",
    "    plt.show()\n",
    "    \n",
    "interact(graphCallsByTicker, tickerSymbol=tickerSymbols);"
   ]
  },
  {
   "cell_type": "code",
   "execution_count": 3,
   "metadata": {},
   "outputs": [
    {
     "data": {
      "application/vnd.jupyter.widget-view+json": {
       "model_id": "0caf2a06ed9a45b29c5bc04a0f0a8a9e",
       "version_major": 2,
       "version_minor": 0
      },
      "text/plain": [
       "interactive(children=(Dropdown(description='tickerSymbol', options=('CA', 'TJX', 'TMK'), value='CA'), Output()…"
      ]
     },
     "metadata": {},
     "output_type": "display_data"
    }
   ],
   "source": [
    "def graphPutsByTicker(tickerSymbol):\n",
    "    optionPriceDic = extractDataSpark.convertPricesToDic(extractDataSpark.getPutPrices(extractDataSpark.getOptionPricesByTicker(tickerSymbol)))\n",
    "    numberOfDays = extractDataSpark.getNumberOfDays(tickerSymbol)\n",
    "    for key, values in optionPriceDic.items():\n",
    "        plt.plot(numberOfDays, values)\n",
    "    plt.xlabel('Days to Expiration')\n",
    "    plt.ylabel('Potential Profit')\n",
    "    plt.title('Put Options for '+ tickerSymbol)\n",
    "    plt.show()\n",
    "    \n",
    "interact(graphPutsByTicker, tickerSymbol=tickerSymbols);"
   ]
  },
  {
   "cell_type": "code",
   "execution_count": 4,
   "metadata": {},
   "outputs": [
    {
     "data": {
      "application/vnd.jupyter.widget-view+json": {
       "model_id": "8fb3cc345ef64d94a59934d3b99ef01b",
       "version_major": 2,
       "version_minor": 0
      },
      "text/plain": [
       "interactive(children=(Dropdown(description='Ticker', options=('CA', 'TJX', 'TMK'), value='CA'), Output()), _do…"
      ]
     },
     "metadata": {},
     "output_type": "display_data"
    }
   ],
   "source": [
    "def graphCallsByTickerWithStrike(strikePrice, tickerSymbol):\n",
    "    prices = extractDataSpark.getOptionPricesByTicker(tickerSymbol)\n",
    "    callPrices = extractDataSpark.getPricesByOptionType(prices, 'Call')\n",
    "    callPrices = extractDataSpark.getPricesByStrike(callPrices,strikePrice,'Call')\n",
    "    optionPriceDic = extractDataSpark.convertPricesToDic(callPrices)\n",
    "    rates = extractDataSpark.getRiskRateForGraph(tickerSymbol)\n",
    "    numberOfDays = extractDataSpark.getNumberOfDays(tickerSymbol)\n",
    "    count = 0\n",
    "    for key, values in optionPriceDic.items():\n",
    "        plt.plot(numberOfDays, values, label=str(rates[count]))\n",
    "        count = count +1\n",
    "    plt.xlabel('Days to Expiration')\n",
    "    plt.ylabel('Potential Profit')\n",
    "    plt.title('Call Options for '+ tickerSymbol + ' with Strike Price €' + str(strikePrice))\n",
    "    plt.legend(bbox_to_anchor=(1.05, 1), loc=2, borderaxespad=0.)\n",
    "    plt.ticklabel_format(useOffset=False)\n",
    "    plt.show()\n",
    "    \n",
    "def passTickerforCallStrike(Ticker):\n",
    "    strikePrices = extractDataSpark.getCallStrikePricesByTicker(Ticker)\n",
    "    interact(graphCallsByTickerWithStrike, strikePrice = strikePrices, tickerSymbol = fixed(Ticker)); # Fixed removes extra interaction box\n",
    "    \n",
    "interact(passTickerforCallStrike, Ticker=tickerSymbols);"
   ]
  },
  {
   "cell_type": "code",
   "execution_count": 5,
   "metadata": {},
   "outputs": [
    {
     "data": {
      "application/vnd.jupyter.widget-view+json": {
       "model_id": "fa6b98754cb34bf7a3a6fb552ca3f40a",
       "version_major": 2,
       "version_minor": 0
      },
      "text/plain": [
       "interactive(children=(Dropdown(description='tickerSymbol', options=('CA', 'TJX', 'TMK'), value='CA'), Output()…"
      ]
     },
     "metadata": {},
     "output_type": "display_data"
    }
   ],
   "source": [
    "def graphPutsByTickerWithStrike(strikePrice, tickerSymbol):\n",
    "    prices =  extractDataSpark.getOptionPricesByTicker(tickerSymbol)\n",
    "    putPrices = extractDataSpark.getPricesByOptionType(prices, 'Put')\n",
    "    rates = extractDataSpark.getRiskRateForGraph(tickerSymbol)\n",
    "    pricesByStrike = extractDataSpark.getPricesByStrike( putPrices,strikePrice, 'Put')\n",
    "    optionPriceDic = extractDataSpark.convertPricesToDic(pricesByStrike)\n",
    "    numberOfDays = extractDataSpark.getNumberOfDays(tickerSymbol)\n",
    "    count = 0\n",
    "    for key, values in optionPriceDic.items():\n",
    "        plt.plot(numberOfDays, values, label=str(rates[count]))\n",
    "        count = count +1\n",
    "    plt.xlabel('Days to Expiration')\n",
    "    plt.ylabel('Potential Profit')\n",
    "    plt.legend(bbox_to_anchor=(1.05, 1), loc=2, borderaxespad=0.)\n",
    "    plt.title('Put Options for '+ tickerSymbol + ' with Strike Price €' + str(strikePrice))\n",
    "    plt.show()\n",
    "    \n",
    "def passTickerforPutStrike(tickerSymbol):\n",
    "    strikePrices = extractDataSpark.getPutStrikePricesByTicker(tickerSymbol)\n",
    "    interact(graphPutsByTickerWithStrike,strikePrice = strikePrices, tickerSymbol = fixed(tickerSymbol)); # Fixed removes extra interaction box\n",
    "    \n",
    "interact(passTickerforPutStrike,tickerSymbol=tickerSymbols);"
   ]
  },
  {
   "cell_type": "code",
   "execution_count": 6,
   "metadata": {},
   "outputs": [
    {
     "data": {
      "application/vnd.jupyter.widget-view+json": {
       "model_id": "3ce4dd771be44ba49d418d200e663564",
       "version_major": 2,
       "version_minor": 0
      },
      "text/plain": [
       "interactive(children=(Dropdown(description='Ticker', options=('CA', 'TJX', 'TMK'), value='CA'), Output()), _do…"
      ]
     },
     "metadata": {},
     "output_type": "display_data"
    }
   ],
   "source": [
    "def graphCallByTickerWithRateStrike(tickerSymbol, strikePrice, rate):\n",
    "    prices = extractDataSpark.getOptionPricesByTicker(tickerSymbol)\n",
    "    ratePrices = extractDataSpark.getPricesByRiskFreeRateAndStrike(prices,rate, strikePrice)\n",
    "    prices = extractDataSpark.getCallsPricesFromFullRow(ratePrices)\n",
    "    optionPriceDic = extractDataSpark.convertPricesToDic(prices)\n",
    "    numberOfDays = extractDataSpark.getNumberOfDays(tickerSymbol)\n",
    "    for key, values in optionPriceDic.items(): \n",
    "        plt.plot(numberOfDays, values)\n",
    "    plt.xlabel('Days to Expiration')\n",
    "    plt.ylabel('Potential Profit')\n",
    "    plt.title('Call Option for '+ tickerSymbol + ' with risk free rate ' + str(rate) + \" and strike price €\" + str(strikePrice))\n",
    "    plt.ticklabel_format(style='plain')\n",
    "    plt.show()\n",
    "\n",
    "def passTickerWithStrikeRateCall(Ticker, Strike):\n",
    "    riskFreeRates = extractDataSpark.getRiskRateForGraph(Ticker)\n",
    "    interact(graphCallByTickerWithRateStrike, tickerSymbol=fixed(Ticker), strikePrice = fixed(Strike), rate = riskFreeRates);\n",
    "    \n",
    "def passStrikeCall(Ticker):\n",
    "    strikePrices = extractDataSpark.getCallStrikePricesByTicker(Ticker)\n",
    "    interact(passTickerWithStrikeRateCall, Ticker = fixed(Ticker), Strike = strikePrices); # Fixed removes extra interaction box);\n",
    "\n",
    "interact(passStrikeCall, Ticker=tickerSymbols);"
   ]
  },
  {
   "cell_type": "code",
   "execution_count": 7,
   "metadata": {},
   "outputs": [
    {
     "data": {
      "application/vnd.jupyter.widget-view+json": {
       "model_id": "ab6df5a74f50490bb42d2a0b8ba0d7b3",
       "version_major": 2,
       "version_minor": 0
      },
      "text/plain": [
       "interactive(children=(Dropdown(description='Ticker', options=('CA', 'TJX', 'TMK'), value='CA'), Output()), _do…"
      ]
     },
     "metadata": {},
     "output_type": "display_data"
    }
   ],
   "source": [
    "def graphPutByTickerWithRateStrike(tickerSymbol, strikePrice, rate):\n",
    "    prices = extractDataSpark.getOptionPricesByTicker(tickerSymbol)\n",
    "    ratePrices = extractDataSpark.getPricesByRiskFreeRateAndStrike(prices,rate, strikePrice)\n",
    "    prices = extractDataSpark.getPutsPricesFromFullRow(ratePrices)\n",
    "    opPriceDic = extractDataSpark.convertPricesToDic(prices)\n",
    "    numberOfDays = extractDataSpark.getNumberOfDays(tickerSymbol)\n",
    "    for key, values in opPriceDic.items(): \n",
    "        plt.plot(numberOfDays, values)\n",
    "    plt.xlabel('Days to Expiration')\n",
    "    plt.ylabel('Potential Profit')\n",
    "    plt.title('Put Option for '+ tickerSymbol + ' with risk free rate ' + str(rate) + \" and strike price €\" + str(strikePrice))\n",
    "    plt.ticklabel_format(style='plain')\n",
    "    plt.show()\n",
    "\n",
    "def passTickerWithStrikeRate(Ticker, Strike):\n",
    "    riskFreeRates = extractDataSpark.getRiskRateForGraph(Ticker)\n",
    "    interact(graphPutByTickerWithRateStrike, tickerSymbol=fixed(Ticker), strikePrice = fixed(Strike), rate = riskFreeRates);\n",
    "    \n",
    "def passStrikePut(Ticker):\n",
    "    strikePrices = extractDataSpark.getPutStrikePricesByTicker(Ticker)\n",
    "    interact(passTickerWithStrikeRate, Ticker = fixed(Ticker), Strike = strikePrices); # Fixed removes extra interaction box);\n",
    "\n",
    "interact(passStrikePut, Ticker=tickerSymbols);"
   ]
  },
  {
   "cell_type": "code",
   "execution_count": null,
   "metadata": {},
   "outputs": [],
   "source": []
  },
  {
   "cell_type": "code",
   "execution_count": null,
   "metadata": {},
   "outputs": [],
   "source": []
  }
 ],
 "metadata": {
  "kernelspec": {
   "display_name": "Python 3",
   "language": "python",
   "name": "python3"
  },
  "language_info": {
   "codemirror_mode": {
    "name": "ipython",
    "version": 3
   },
   "file_extension": ".py",
   "mimetype": "text/x-python",
   "name": "python",
   "nbconvert_exporter": "python",
   "pygments_lexer": "ipython3",
   "version": "3.6.3"
  }
 },
 "nbformat": 4,
 "nbformat_minor": 2
}
